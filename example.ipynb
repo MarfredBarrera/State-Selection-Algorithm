{
 "cells": [
  {
   "cell_type": "code",
   "execution_count": 1,
   "metadata": {},
   "outputs": [],
   "source": [
    "using LinearAlgebra, Revise, ControlSystemsBase, Plots"
   ]
  },
  {
   "cell_type": "code",
   "execution_count": 2,
   "metadata": {},
   "outputs": [
    {
     "data": {
      "text/plain": [
       "propagate_PF! (generic function with 1 method)"
      ]
     },
     "metadata": {},
     "output_type": "display_data"
    }
   ],
   "source": [
    "## Bootstrap Partilce Filter (additive Gaussian)\n",
    "mutable struct ParticleFilter\n",
    "    f::Function\n",
    "    h::Function\n",
    "    W::Matrix{Float64}\n",
    "    V::Matrix{Float64}\n",
    "    particles::Matrix{Float64} # n x L matrix of particles, where n is the state dimension and L is the number of particles\n",
    "    likelihoods::Vector{Float64}\n",
    "    function ParticleFilter(f, h, W, V, particles, likelihoods)\n",
    "        if !isposdef(W)\n",
    "            throw(ArgumentError(\"W must be a positive semi-definite matrix.\"))\n",
    "        end\n",
    "        if !isposdef(V)\n",
    "            throw(ArgumentError(\"V must be a positive semi-definite matrix.\"))\n",
    "        end\n",
    "        new(f, h, W, V, particles, likelihoods)\n",
    "    end\n",
    "end\n",
    "\n",
    "function time_update(PF::ParticleFilter, u::Vector{Float64})\n",
    "    particles_plus = Matrix{Float64}(undef, size(PF.particles))\n",
    "    Threads.@threads for i = axes(particles_plus,2)\n",
    "        particles_plus[:,i] = PF.f(PF.particles[:,i], u)\n",
    "    end\n",
    "    return particles_plus\n",
    "end\n",
    "\n",
    "function measurement_update(PF::ParticleFilter, y::Vector{Float64})\n",
    "    likelihoods = zeros(size(PF.particles,2))\n",
    "    V_inv = inv(PF.V)\n",
    "    Threads.@threads for i = axes(particle_filter.particles,2)\n",
    "        err = y - PF.h(PF.particles[:,i])\n",
    "        likelihoods[i] = exp.(-1/2 * err' * V_inv *err)\n",
    "    end\n",
    "    # We assume resampling is done every time step, so no need to multiply with old likelihoods\n",
    "    PF.likelihoods = likelihoods ./ sum(likelihoods)\n",
    "end\n",
    "\n",
    "function resampler!(PF::ParticleFilter)\n",
    "    particles_resampled = zeros(size(PF.particles))\n",
    "    CDF = cumsum(PF.likelihoods)\n",
    "    for i = axes(particles_resampled,2)\n",
    "        particles_resampled[:,i] = PF.particles[:,findfirst(CDF .>= rand(1))]\n",
    "    end\n",
    "    PF.particles = particles_resampled\n",
    "end\n",
    "\n",
    "function propagate_PF!(PF::ParticleFilter, u::Vector{Float64}, y::Vector{Float64})\n",
    "    time_update(PF, u)\n",
    "    measurement_update(PF, y)\n",
    "    resampler(PF)\n",
    "end"
   ]
  },
  {
   "cell_type": "code",
   "execution_count": null,
   "metadata": {},
   "outputs": [
    {
     "data": {
      "text/plain": [
       "SSA_select (generic function with 1 method)"
      ]
     },
     "metadata": {},
     "output_type": "display_data"
    }
   ],
   "source": [
    "mutable struct SSA\n",
    "    PF::ParticleFilter\n",
    "    K₀::Function\n",
    "    N::Int # prediction horizon length\n",
    "    M::Int # number of monte carlo samples\n",
    "    running_cost::Function\n",
    "    check_constraint_violation::Function\n",
    "    α::Float64 # constraint violation threshold\n",
    "end\n",
    "\n",
    "function SSA_sample_averages(SSA::SSA)\n",
    "    n = size(SSA.PF.particles, 1)\n",
    "    L = size(SSA.PF.particles, 2)\n",
    "    X_prime = Array{Float64}(undef, (n, SSA.N, L))\n",
    "    α_t_achieved = Array{Float64}(undef, (L, SSA.N))\n",
    "    cost_t_achieved = Array{Float64}(undef, (L, SSA.N))\n",
    "    Threads.@threads for i = 1:L\n",
    "        X_prime[:,1,i] = SSA.PF.particles[:,i]\n",
    "        x_dprime_per_sample = SSA.PF.particles[:,rand(1:L, SSA.M)]\n",
    "         for t = 1:SSA.N-1\n",
    "            u = SSA.K₀(X_prime[:,t,i])\n",
    "            X_prime[:,t+1,i] = SSA.PF.f(X_prime[:,t,i], u)\n",
    "            cost_t = 0.0\n",
    "            α_t = 0.0\n",
    "            for j = 1:SSA.M\n",
    "            x_dprime_per_sample[:,j] = SSA.PF.f.(x_dprime_per_sample[:,j], u)\n",
    "            cost_t += SSA.running_cost(x_dprime_per_sample[:,j], u)\n",
    "            α_t += SSA.check_constraint_violation(x_dprime_per_sample[:,j])\n",
    "            end\n",
    "            α_t_achieved[i,t] = α_t / SSA.M\n",
    "            cost_t_achieved[i,t] = cost_t / SSA.M\n",
    "        end\n",
    "    end\n",
    "    return X_prime[:,1,:], α_t_achieved, cost_t_achieved\n",
    "end\n",
    "\n",
    "function SSA_select(SSA::SSA, x_prime_0, α_t_achieved, cost_t_achieved)\n",
    "    n = size(SSA.PF.particles, 1)\n",
    "    L = size(SSA.PF.particles, 2)\n",
    "    feasible_indices = falses(L)\n",
    "    cost_achieved = zeros(L)\n",
    "    for i = 1:L\n",
    "        # Check feasibility\n",
    "        if all(α_t_achieved[i,:] .<= SSA.α)\n",
    "            feasible_indices[i] = true\n",
    "        end\n",
    "        # Check predicted cost\n",
    "        cost_achieved = sum(cost_t_achieved[i,:])\n",
    "    end\n",
    "    feasible_costs = cost_achieved[feasible_indices]\n",
    "    feasible_indices_set = findall(feasible_indices)\n",
    "    if isempty(feasible_costs)\n",
    "        println(\"No feasible state found!\")\n",
    "        α_achieved_sum = sum(α_t_achieved, dims=2)\n",
    "        min_α, min_index = findmin(α_achieved_sum)\n",
    "        return x_prime_0[:,min_index[0]]\n",
    "    else\n",
    "        min_cost, min_index = findmin(cost_achieved[feasible_indices])\n",
    "        return x_prime_0[:, feasible_indices_set[min_index[0]]]\n",
    "    end\n",
    "end"
   ]
  },
  {
   "cell_type": "code",
   "execution_count": 4,
   "metadata": {},
   "outputs": [
    {
     "data": {
      "text/plain": [
       "controller (generic function with 1 method)"
      ]
     },
     "metadata": {},
     "output_type": "display_data"
    }
   ],
   "source": [
    "# Define state-space example\n",
    "A =  [0 0 1 0;\n",
    "      0 0 0 1;\n",
    "      0 0 0 0;\n",
    "      0 0 0 0]\n",
    "B =  [0.0 0.0;\n",
    "      0.0 0.0;\n",
    "      1.0 0.0;\n",
    "      0.0 1.0]\n",
    "C =  [1.0 0.0 0.0 0.0;\n",
    "      0.0 1.0 0.0 0.0]\n",
    "\n",
    "# Compute discrete-time A_d and B_d\n",
    "#  Time step for discretization\n",
    "Δt = 0.1\n",
    "Ad = exp(Δt * A)  # Exponential of matrix A\n",
    "Bd = Δt * Ad * B  # Euler approximation of integral equation for Bd\n",
    "\n",
    "# Gain matrices for nominal feedback controller\n",
    "\n",
    "\n",
    "# Noise matrix\n",
    "W = Diagonal([0.15, 0.15, 0.15, 0.15])\n",
    "V = Diagonal([0.15, 0.15])\n",
    "\n",
    "f(x::Vector{Float64}, u::Vector{Float64}) = Ad * x + Bd * u + sqrt(W) * randn(size(W,1))\n",
    "\n",
    "h(x::Vector{Float64}) = C * x + V * randn(size(V,1))\n",
    "\n",
    "sys = ss(Ad,Bd,C,0,Δt)\n",
    "\n",
    "Q = I\n",
    "R = 2I\n",
    "\n",
    "K_LQR = -lqr(sys, Q, R)\n",
    "\n",
    "controller(x::Vector{Float64}) = K_LQR * x"
   ]
  },
  {
   "cell_type": "code",
   "execution_count": 5,
   "metadata": {},
   "outputs": [
    {
     "data": {
      "text/plain": [
       "ParticleFilter(Main.f, Main.h, [0.15 0.0 0.0 0.0; 0.0 0.15 0.0 0.0; 0.0 0.0 0.15 0.0; 0.0 0.0 0.0 0.15], [0.15 0.0; 0.0 0.15], [-1.614732652059376 1.0140575437176969 … -1.3425763888998568 -0.3267585820804758; -0.6234456976265337 0.0027785980048414 … -0.7730950276893058 1.5087290241421083; -0.21996531004999972 -0.9711938438934449 … 0.7456351732472276 -1.1013532304714058; 2.24834914703995 -0.6874887129040155 … -1.6166810280567816 0.2459031233636174], [0.0005, 0.0005, 0.0005, 0.0005, 0.0005, 0.0005, 0.0005, 0.0005, 0.0005, 0.0005  …  0.0005, 0.0005, 0.0005, 0.0005, 0.0005, 0.0005, 0.0005, 0.0005, 0.0005, 0.0005])"
      ]
     },
     "metadata": {},
     "output_type": "display_data"
    }
   ],
   "source": [
    "L = 2000\n",
    "initial_particles = sqrt(I) * randn(size(W,1), L)\n",
    "initial_likelihoods = ones(L) / L\n",
    "pf = ParticleFilter(f, h, W, V, initial_particles, initial_likelihoods)"
   ]
  },
  {
   "cell_type": "code",
   "execution_count": 6,
   "metadata": {},
   "outputs": [
    {
     "data": {
      "text/plain": [
       "SSA(ParticleFilter(Main.f, Main.h, [0.15 0.0 0.0 0.0; 0.0 0.15 0.0 0.0; 0.0 0.0 0.15 0.0; 0.0 0.0 0.0 0.15], [0.15 0.0; 0.0 0.15], [-1.614732652059376 1.0140575437176969 … -1.3425763888998568 -0.3267585820804758; -0.6234456976265337 0.0027785980048414 … -0.7730950276893058 1.5087290241421083; -0.21996531004999972 -0.9711938438934449 … 0.7456351732472276 -1.1013532304714058; 2.24834914703995 -0.6874887129040155 … -1.6166810280567816 0.2459031233636174], [0.0005, 0.0005, 0.0005, 0.0005, 0.0005, 0.0005, 0.0005, 0.0005, 0.0005, 0.0005  …  0.0005, 0.0005, 0.0005, 0.0005, 0.0005, 0.0005, 0.0005, 0.0005, 0.0005, 0.0005]), Main.controller, 5, 100, Main.cost, Main.constraint_violation, 0.15)"
      ]
     },
     "metadata": {},
     "output_type": "display_data"
    }
   ],
   "source": [
    "cost(x::Vector{Float64}, u::Vector{Float64}) = x' * Q * x + u' * R * u\n",
    "constraint_violation(x::Vector{Float64}) = 0.0\n",
    "N = 5\n",
    "M = 100\n",
    "α = 0.15\n",
    "ssa = SSA(pf, controller, N, M, cost, constraint_violation, α)"
   ]
  },
  {
   "cell_type": "code",
   "execution_count": null,
   "metadata": {},
   "outputs": [
    {
     "ename": "CompositeException",
     "evalue": "TaskFailedException\n\n    nested task error: DimensionMismatch: arrays could not be broadcast to a common size: a has axes Base.OneTo(4) and b has axes Base.OneTo(2)\n    Stacktrace:\n      [1] _bcs1\n        @ ./broadcast.jl:523 [inlined]\n      [2] _bcs\n        @ ./broadcast.jl:517 [inlined]\n      [3] broadcast_shape\n        @ ./broadcast.jl:511 [inlined]\n      [4] combine_axes\n        @ ./broadcast.jl:492 [inlined]\n      [5] instantiate\n        @ ./broadcast.jl:302 [inlined]\n      [6] materialize(bc::Base.Broadcast.Broadcasted{Base.Broadcast.DefaultArrayStyle{1}, Nothing, typeof(f), Tuple{Vector{Float64}, Vector{Float64}}})\n        @ Base.Broadcast ./broadcast.jl:867\n      [7] macro expansion\n        @ ~/Documents/GitHub/robust-less-dist-shifts/SSA-CIDA/jl_notebook_cell_df34fa98e69747e1a8f8a730347b8e2f_W2sZmlsZQ==.jl:26 [inlined]\n      [8] (::var\"#101#threadsfor_fun#18\"{var\"#101#threadsfor_fun#17#19\"{SSA, Matrix{Float64}, Matrix{Float64}, Array{Float64, 3}, Int64, UnitRange{Int64}}})(tid::Int64; onethread::Bool)\n        @ Main ./threadingconstructs.jl:252\n      [9] #101#threadsfor_fun\n        @ ./threadingconstructs.jl:219 [inlined]\n     [10] (::Base.Threads.var\"#1#2\"{var\"#101#threadsfor_fun#18\"{var\"#101#threadsfor_fun#17#19\"{SSA, Matrix{Float64}, Matrix{Float64}, Array{Float64, 3}, Int64, UnitRange{Int64}}}, Int64})()\n        @ Base.Threads ./threadingconstructs.jl:154",
     "output_type": "error",
     "traceback": [
      "TaskFailedException\n",
      "\n",
      "    nested task error: DimensionMismatch: arrays could not be broadcast to a common size: a has axes Base.OneTo(4) and b has axes Base.OneTo(2)\n",
      "    Stacktrace:\n",
      "      [1] _bcs1\n",
      "        @ ./broadcast.jl:523 [inlined]\n",
      "      [2] _bcs\n",
      "        @ ./broadcast.jl:517 [inlined]\n",
      "      [3] broadcast_shape\n",
      "        @ ./broadcast.jl:511 [inlined]\n",
      "      [4] combine_axes\n",
      "        @ ./broadcast.jl:492 [inlined]\n",
      "      [5] instantiate\n",
      "        @ ./broadcast.jl:302 [inlined]\n",
      "      [6] materialize(bc::Base.Broadcast.Broadcasted{Base.Broadcast.DefaultArrayStyle{1}, Nothing, typeof(f), Tuple{Vector{Float64}, Vector{Float64}}})\n",
      "        @ Base.Broadcast ./broadcast.jl:867\n",
      "      [7] macro expansion\n",
      "        @ ~/Documents/GitHub/robust-less-dist-shifts/SSA-CIDA/jl_notebook_cell_df34fa98e69747e1a8f8a730347b8e2f_W2sZmlsZQ==.jl:26 [inlined]\n",
      "      [8] (::var\"#101#threadsfor_fun#18\"{var\"#101#threadsfor_fun#17#19\"{SSA, Matrix{Float64}, Matrix{Float64}, Array{Float64, 3}, Int64, UnitRange{Int64}}})(tid::Int64; onethread::Bool)\n",
      "        @ Main ./threadingconstructs.jl:252\n",
      "      [9] #101#threadsfor_fun\n",
      "        @ ./threadingconstructs.jl:219 [inlined]\n",
      "     [10] (::Base.Threads.var\"#1#2\"{var\"#101#threadsfor_fun#18\"{var\"#101#threadsfor_fun#17#19\"{SSA, Matrix{Float64}, Matrix{Float64}, Array{Float64, 3}, Int64, UnitRange{Int64}}}, Int64})()\n",
      "        @ Base.Threads ./threadingconstructs.jl:154\n",
      "\n",
      "Stacktrace:\n",
      " [1] threading_run(fun::var\"#101#threadsfor_fun#18\"{var\"#101#threadsfor_fun#17#19\"{SSA, Matrix{Float64}, Matrix{Float64}, Array{Float64, 3}, Int64, UnitRange{Int64}}}, static::Bool)\n",
      "   @ Base.Threads ./threadingconstructs.jl:172\n",
      " [2] macro expansion\n",
      "   @ ./threadingconstructs.jl:189 [inlined]\n",
      " [3] SSA_sample_averages(SSA::SSA)\n",
      "   @ Main ~/Documents/GitHub/robust-less-dist-shifts/SSA-CIDA/jl_notebook_cell_df34fa98e69747e1a8f8a730347b8e2f_W2sZmlsZQ==.jl:17\n",
      " [4] top-level scope\n",
      "   @ ~/Documents/GitHub/robust-less-dist-shifts/SSA-CIDA/jl_notebook_cell_df34fa98e69747e1a8f8a730347b8e2f_X14sZmlsZQ==.jl:1"
     ]
    }
   ],
   "source": [
    "T = 20\n",
    "x_true = zeros(size(W,1))\n",
    "for t = 1:T\n",
    "    x_prime0, α_t_achieved, cost_t_achieved = SSA_sample_averages(ssa)\n",
    "    x_prime_optimal = SSA_select(ssa, x_prime_0, α_t_achieved, cost_t_achieved)\n",
    "    u = ssa.K₀(x_prime_optimal)\n",
    "    y = h(x_true)\n",
    "    propagate_PF!(ssa.PF, u, y)\n",
    "    x_true = ssa.PF.f(x_true, u)\n",
    "end"
   ]
  }
 ],
 "metadata": {
  "kernelspec": {
   "display_name": "Julia 1.11.1",
   "language": "julia",
   "name": "julia-1.11"
  },
  "language_info": {
   "file_extension": ".jl",
   "mimetype": "application/julia",
   "name": "julia",
   "version": "1.11.1"
  }
 },
 "nbformat": 4,
 "nbformat_minor": 2
}
