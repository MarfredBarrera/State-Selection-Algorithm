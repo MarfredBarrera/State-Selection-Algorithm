{
 "cells": [
  {
   "cell_type": "code",
   "execution_count": null,
   "metadata": {},
   "outputs": [
    {
     "name": "stdout",
     "output_type": "stream",
     "text": [
      "Time step: 1\n"
     ]
    },
    {
     "ename": "MethodError",
     "evalue": "MethodError: no method matching getindex(::Float64, ::BitVector)\nThe function `getindex` exists, but no method is defined for this combination of argument types.\n\nClosest candidates are:\n  getindex(::Number, !Matched::Integer)\n   @ Base number.jl:96\n  getindex(::Number)\n   @ Base number.jl:95\n  getindex(::Number, !Matched::Integer...)\n   @ Base number.jl:101\n  ...\n",
     "output_type": "error",
     "traceback": [
      "MethodError: no method matching getindex(::Float64, ::BitVector)\n",
      "The function `getindex` exists, but no method is defined for this combination of argument types.\n",
      "\n",
      "Closest candidates are:\n",
      "  getindex(::Number, !Matched::Integer)\n",
      "   @ Base number.jl:96\n",
      "  getindex(::Number)\n",
      "   @ Base number.jl:95\n",
      "  getindex(::Number, !Matched::Integer...)\n",
      "   @ Base number.jl:101\n",
      "  ...\n",
      "\n",
      "\n",
      "Stacktrace:\n",
      " [1] SSA_select(SSA::SSA, x_prime_0::Matrix{Float64}, α_t_achieved::Matrix{Float64}, cost_t_achieved::Matrix{Float64})\n",
      "   @ Main ~/Documents/GitHub/robust-less-dist-shifts/SSA-CIDA/jl_notebook_cell_df34fa98e69747e1a8f8a730347b8e2f_W2sZmlsZQ==.jl:51\n",
      " [2] top-level scope\n",
      "   @ ~/Documents/GitHub/robust-less-dist-shifts/SSA-CIDA/jl_notebook_cell_df34fa98e69747e1a8f8a730347b8e2f_W6sZmlsZQ==.jl:6"
     ]
    }
   ],
   "source": []
  }
 ],
 "metadata": {
  "kernelspec": {
   "display_name": "Julia 1.10.4",
   "language": "julia",
   "name": "julia-1.10"
  },
  "language_info": {
   "file_extension": ".jl",
   "mimetype": "application/julia",
   "name": "julia",
   "version": "1.10.4"
  }
 },
 "nbformat": 4,
 "nbformat_minor": 2
}
