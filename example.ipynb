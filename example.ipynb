{
 "cells": [
  {
   "cell_type": "code",
   "execution_count": 1,
   "metadata": {},
   "outputs": [],
   "source": [
    "using LinearAlgebra"
   ]
  },
  {
   "cell_type": "code",
   "execution_count": null,
   "metadata": {},
   "outputs": [
    {
     "data": {
      "text/plain": [
       "propagate_PF (generic function with 1 method)"
      ]
     },
     "metadata": {},
     "output_type": "display_data"
    }
   ],
   "source": [
    "## Bootstrap Partilce Filter (additive Gaussian)\n",
    "mutable struct ParticleFilter\n",
    "    f::Function\n",
    "    h::Function\n",
    "    W::Matrix{Float64}\n",
    "    V::Matrix{Float64}\n",
    "    particles::Matrix{Float64} # n x L matrix of particles, where n is the state dimension and L is the number of particles\n",
    "    likelihoods::Vector{Float64}\n",
    "    function ParticleFilter(f, h, W, V)\n",
    "        if !isposdef(W)\n",
    "            throw(ArgumentError(\"W must be a positive semi-definite matrix.\"))\n",
    "        end\n",
    "        if !isposdef(V)\n",
    "            throw(ArgumentError(\"V must be a positive semi-definite matrix.\"))\n",
    "        end\n",
    "        new(f, h, W, V, particles, likelihoods)\n",
    "    end\n",
    "end\n",
    "\n",
    "function time_update(PF::ParticleFilter, u::Vector{Float64})\n",
    "    particles_plus = Matrix{Float64}(undef, size(PF.particles))\n",
    "    Threads.@threads for i = axes(particles_plus,2)\n",
    "        particles_plus[:,i] = PF.f(PF.particles[:,i], u)\n",
    "    end\n",
    "    return particles_plus\n",
    "end\n",
    "\n",
    "function measurement_update(PF::ParticleFilter, y::Vector{Float64})\n",
    "    likelihoods = zeros(size(PF.particles,2))\n",
    "    V_inv = inv(PF.V)\n",
    "    Threads.@threads for i = axes(particle_filter.particles,2)\n",
    "        err = y - PF.h(PF.particles[:,i])\n",
    "        likelihoods[i] = exp.(-1/2 * err' * V_inv *err)\n",
    "    end\n",
    "    # We assume resampling is done every time step, so no need to multiply with old likelihoods\n",
    "    PF.likelihoods = likelihoods ./ sum(likelihoods)\n",
    "end\n",
    "\n",
    "function resampler!(PF::ParticleFilter)\n",
    "    particles_resampled = zeros(size(PF.particles))\n",
    "    CDF = cumsum(PF.likelihoods)\n",
    "    for i = axes(particles_resampled,2)\n",
    "        particles_resampled[:,i] = PF.particles[:,findfirst(CDF .>= rand(1))]\n",
    "    end\n",
    "    PF.particles = particles_resampled\n",
    "end\n",
    "\n",
    "function propagate_PF!(PF::ParticleFilter, u::Vector{Float64}, y::Vector{Float64})\n",
    "    time_update(PF, u)\n",
    "    measurement_update(PF, y)\n",
    "    resampler(PF)\n",
    "end"
   ]
  },
  {
   "cell_type": "code",
   "execution_count": null,
   "metadata": {},
   "outputs": [
    {
     "data": {
      "text/plain": [
       "SSA_select (generic function with 1 method)"
      ]
     },
     "metadata": {},
     "output_type": "display_data"
    }
   ],
   "source": [
    "mutable struct SSA\n",
    "    PF::ParticleFilter\n",
    "    K₀::Function\n",
    "    N::Int # prediction horizon length\n",
    "    M::Int # number of monte carlo samples\n",
    "    running_cost::Function\n",
    "    check_constraint_violation::Function\n",
    "    α::Float64 # constraint violation threshold\n",
    "end\n",
    "\n",
    "function SSA_sample_averages(SSA::SSA)\n",
    "    n = size(SSA.PF.particles, 1)\n",
    "    L = size(SSA.PF.particles, 2)\n",
    "    X_prime = Array{Float64}(undef, (n, SSA.N, L))\n",
    "    α_t_achieved = Array{Float64}(undef, (L, SSA.N))\n",
    "    cost_t_achieved = Array{Float64}(undef, (L, SSA.N))\n",
    "    Threads.@threads for i = 1:L\n",
    "        X_prime[:,1,i] = SSA.PF.particles[:,i]\n",
    "        x_dprime_per_sample = SSA.PF.particles[:,rand(1:L, SSA.M)]\n",
    "         for t = 1:SSA.N-1\n",
    "            u = SSA.K₀(X_prime[:,t,i])\n",
    "            X_prime[:,t+1,i] = SSA.PF.f(X_prime[:,t,i], u)\n",
    "            cost_t = 0.0\n",
    "            α_t = 0.0\n",
    "            for j = 1:SSA.M\n",
    "            x_dprime_per_sample[:,j] = SSA.PF.f.(x_dprime_per_sample[:,j], u)\n",
    "            cost_t += SSA.running_cost(x_dprime_per_sample[:,j], u)\n",
    "            α_t += SSA.check_constraint_violation(x_dprime_per_sample[:,j])\n",
    "            end\n",
    "            α_t_achieved[i,t] = α_t / SSA.M\n",
    "            cost_t_achieved[i,t] = cost_t / SSA.M\n",
    "        end\n",
    "    end\n",
    "    return X_prime[:,1,:], α_t_achieved, cost_t_achieved\n",
    "end\n",
    "\n",
    "function SSA_select(SSA::SSA, x_prime_0, α_t_achieved, cost_t_achieved)\n",
    "    n = size(SSA.PF.particles, 1)\n",
    "    L = size(SSA.PF.particles, 2)\n",
    "    feasible_indices = falses(L)\n",
    "    cost_achieved = zeros(L)\n",
    "    for i = 1:L\n",
    "        # Check feasibility\n",
    "        if all(α_t_achieved[i,:] .<= SSA.α)\n",
    "            feasible_indices[i] = True\n",
    "        end\n",
    "        # Check predicted cost\n",
    "        cost_achieved = sum(cost_t_achieved[i,:])\n",
    "    end\n",
    "    feasible_costs = cost_achieved[feasible_indices]\n",
    "    feasible_indices_set = findall(feasible_indices)\n",
    "    if isempty(feasible_costs)\n",
    "        println(\"No feasible state found!\")\n",
    "        α_achieved_sum = sum(α_t_achieved, dims=2)\n",
    "        min_α, min_index = findmin(α_achieved_sum)\n",
    "        return x_prime_0[:,min_index]\n",
    "    else\n",
    "        min_cost, min_index = findmin(cost_achieved[feasible_indices])\n",
    "        return x_prime_0[:, feasible_indices_set[min_index]]\n",
    "    end\n",
    "end"
   ]
  }
 ],
 "metadata": {
  "kernelspec": {
   "display_name": "Julia 1.11.1",
   "language": "julia",
   "name": "julia-1.11"
  },
  "language_info": {
   "file_extension": ".jl",
   "mimetype": "application/julia",
   "name": "julia",
   "version": "1.11.1"
  }
 },
 "nbformat": 4,
 "nbformat_minor": 2
}
