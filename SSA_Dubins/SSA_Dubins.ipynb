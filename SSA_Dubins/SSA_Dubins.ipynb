{
 "cells": [
  {
   "cell_type": "markdown",
   "metadata": {},
   "source": [
    "Import packages"
   ]
  },
  {
   "cell_type": "code",
   "execution_count": 2,
   "metadata": {},
   "outputs": [],
   "source": [
    "using JuMP, HiGHS, Ipopt, OSQP, Plots"
   ]
  },
  {
   "cell_type": "markdown",
   "metadata": {},
   "source": [
    "Utility functions:\n",
    "\n",
    "solve_evader_OCP - solve the optimal control problem where the evader avoids the pursuer with a cost x'*x and bounded turning rate\n",
    "\n",
    "solve_pursuer_OCP - solve the optimal control problem where the pursuer tracks the evader with a cost x'*x and bounded turning rate"
   ]
  },
  {
   "cell_type": "code",
   "execution_count": 3,
   "metadata": {},
   "outputs": [
    {
     "data": {
      "text/plain": [
       "solve_pursuer_OCP (generic function with 1 method)"
      ]
     },
     "metadata": {},
     "output_type": "display_data"
    }
   ],
   "source": [
    "# function: solve_evader_OCP\n",
    "# objective: given the state of an evader and state of a pursuer, find the optimal control for the evader to avoid the pursuer \n",
    "# inputs: \n",
    "#   - model: OCP solver model\n",
    "#   - sim_params: struct of simulation parameters\n",
    "#   - __pursuer: dubins car object for pursuer\n",
    "#   - __evader: dubins car object for evader\n",
    "function solve_evader_OCP(model, sim_params, __pursuer, __evader)\n",
    "\n",
    "\n",
    "    N = sim_params.N\n",
    "    Δt = sim_params.Δt\n",
    "\n",
    "\n",
    "    x_pursuer = __pursuer.x_true[1]\n",
    "    y_pursuer = __pursuer.x_true[2]\n",
    "\n",
    "    x0 = __evader.x_measured[1]\n",
    "    y0 = __evader.x_measured[2]\n",
    "    θ0 = __evader.x_measured[3]\n",
    "\n",
    "    v = __evader.v\n",
    "    u_max = __evader.u_max\n",
    "\n",
    "    # Decision variables\n",
    "    @variable(model, x[1:N+1])      # x position\n",
    "    @variable(model, y[1:N+1])      # y position\n",
    "    @variable(model, θ[1:N+1])      # orientation\n",
    "    @variable(model, ω[1:N])        # control input (turning rate)\n",
    "\n",
    "    # Objective function (quadratic cost on position and control) --> maximize distance to pursuer\n",
    "    @objective(model, Min, \n",
    "        -sum((x[k] - x_pursuer)^2 + (y[k] - y_pursuer)^2 for k in 1:N)) + sum(ω[k]^2 for k in 1:N)\n",
    "\n",
    "    # Initial conditions\n",
    "    @constraint(model, x[1] == x0)\n",
    "    @constraint(model, y[1] == y0)\n",
    "    @constraint(model, θ[1] == θ0)\n",
    "\n",
    "    # Dubins car dynamics constraints\n",
    "    for k in 1:N\n",
    "        @constraint(model, x[k+1] == x[k] + v * cos(θ[k]) * Δt)\n",
    "        @constraint(model, y[k+1] == y[k] + v * sin(θ[k]) * Δt)\n",
    "        @constraint(model, θ[k+1] == θ[k] + ω[k] * Δt)\n",
    "\n",
    "        # bounded control input\n",
    "        @constraint(model, -u_max <= ω[k] <= u_max)\n",
    "\n",
    "    end\n",
    "\n",
    "    # Solve the optimization problem\n",
    "    optimize!(model)\n",
    "\n",
    "    # Extract results\n",
    "    x_opt = value.(x)\n",
    "    y_opt = value.(y)\n",
    "    θ_opt = value.(θ)\n",
    "    ω_opt = value.(ω)\n",
    "\n",
    "    return x_opt,y_opt,θ_opt,ω_opt\n",
    "end\n",
    "\n",
    "# function: solve_pursuer_OCP\n",
    "# objective: given the state of an evader and state of a pursuer, find the optimal control for the pursuer to catch the evader \n",
    "# inputs: \n",
    "#   - model: OCP solver model\n",
    "#   - sim_params: struct of simulation parameters\n",
    "#   - __pursuer: dubins car object for pursuer\n",
    "#   - __evader: dubins car object for evader\n",
    "function solve_pursuer_OCP(model, sim_params, __pursuer, __evader)\n",
    "    N = sim_params.N\n",
    "    Δt = sim_params.Δt\n",
    "\n",
    "    x_evader = __evader.x_true[1]\n",
    "    y_evader = __evader.x_true[2]\n",
    "    θ_evader = __evader.x_true[3]\n",
    "\n",
    "    x0 = __pursuer.x_true[1]\n",
    "    y0 = __pursuer.x_true[2]\n",
    "    θ0 = __pursuer.x_true[3]\n",
    "\n",
    "    v = __pursuer.v\n",
    "    u_max = __pursuer.u_max\n",
    "\n",
    "    # Decision variables\n",
    "    @variable(model, x[1:N+1])      # x position\n",
    "    @variable(model, y[1:N+1])      # y position\n",
    "    @variable(model, θ[1:N+1])      # orientation\n",
    "    @variable(model, ω[1:N])        # control input (turning rate)\n",
    "\n",
    "    # Objective function (quadratic cost on position and control)\n",
    "    @objective(model, Min, \n",
    "        sum((x[k] - x_evader)^2 + (y[k] - y_evader)^2 for k in 1:N))\n",
    "\n",
    "    # Initial conditions\n",
    "    @constraint(model, x[1] == x0)\n",
    "    @constraint(model, y[1] == y0)\n",
    "    @constraint(model, θ[1] == θ0)\n",
    "\n",
    "    # Dubins car dynamics constraints\n",
    "    for k in 1:N\n",
    "        @constraint(model, x[k+1] == x[k] + v * cos(θ[k]) * Δt)\n",
    "        @constraint(model, y[k+1] == y[k] + v * sin(θ[k]) * Δt)\n",
    "        @constraint(model, θ[k+1] == θ[k] + ω[k] * Δt)\n",
    "\n",
    "        # bounded control input\n",
    "        @constraint(model, -u_max <= ω[k] <= u_max)\n",
    "    end\n",
    "    \n",
    "    # Solve the optimization problem\n",
    "    optimize!(model)\n",
    "\n",
    "    # Extract results\n",
    "    x_opt = value.(x)\n",
    "    y_opt = value.(y)\n",
    "    θ_opt = value.(θ)\n",
    "    ω_opt = value.(ω)\n",
    "\n",
    "    return x_opt,y_opt,θ_opt,ω_opt\n",
    "end"
   ]
  },
  {
   "cell_type": "markdown",
   "metadata": {},
   "source": [
    "Define Dubins Car Dynamics"
   ]
  },
  {
   "cell_type": "code",
   "execution_count": 4,
   "metadata": {},
   "outputs": [
    {
     "data": {
      "text/plain": [
       "h (generic function with 1 method)"
      ]
     },
     "metadata": {},
     "output_type": "display_data"
    }
   ],
   "source": [
    "# Discrete-time Dubins Car Dynamics\n",
    "\n",
    "@kwdef mutable struct Dubins_Car\n",
    "    f::Function\n",
    "    h::Function\n",
    "    v::Float64\n",
    "    x_true::Vector{Float64}\n",
    "    x_measured::Vector{Float64}\n",
    "    u_max::Float64\n",
    "end\n",
    "\n",
    "function f(x::Vector{Float64},u::Float64,w::Vector{Float64},v::Float64,δt::Float64)\n",
    "    θ = x[3]\n",
    "    xk = x + δt*[v*cos(θ) + w[1]; v*sin(θ) + w[2]; u]\n",
    "    return xk\n",
    "end\n",
    "\n",
    "function h(x::Vector{Float64},v)\n",
    "    return y = x[1:2]+v\n",
    "end"
   ]
  },
  {
   "cell_type": "code",
   "execution_count": 5,
   "metadata": {},
   "outputs": [
    {
     "data": {
      "text/plain": [
       "A JuMP Model\n",
       "├ solver: Ipopt\n",
       "├ objective_sense: FEASIBILITY_SENSE\n",
       "├ num_variables: 0\n",
       "├ num_constraints: 0\n",
       "└ Names registered in the model: none"
      ]
     },
     "metadata": {},
     "output_type": "display_data"
    }
   ],
   "source": [
    "\n",
    "\n",
    "@kwdef mutable struct Parameters\n",
    "    N::Int64\n",
    "    Δt::Float64\n",
    "    T::Int64\n",
    "end\n",
    "\n",
    "# Parameters\n",
    "T = 20                   # Total sim time [seconds]\n",
    "Δt = 0.1                 # Time step\n",
    "N = 0.2*(T/Δt)           # Time horizon\n",
    "\n",
    "x0_pursuer = -1.5         # adversary x position\n",
    "y0_pursuer = 0.0         # adversary y position\n",
    "θ0_pursuer = pi/4        # adversary orientation\n",
    "v_pursuer= 1.0           # Fixed pursuer forward velocity\n",
    "up_max = 0.75             # Bound on input (turn rate)\n",
    "\n",
    "x0_evader = 0.0          # Initial evader x position\n",
    "y0_evader = 0.0          # Initial evader y position\n",
    "θ0_evader = pi/2         # Initial evader orientation\n",
    "v_evader = 0.50           # Fixed evader forward velocity\n",
    "ue_max = 1.0             # Bound on input (turn rate)\n",
    "\n",
    "pursuer_init_state = Vector{Float64}([x0_pursuer, y0_pursuer, θ0_pursuer])\n",
    "evader_init_state = Vector{Float64}([x0_evader, y0_evader, θ0_evader])\n",
    "\n",
    "\n",
    "\n",
    "sim_params = Parameters(N,Δt,T)\n",
    "\n",
    "# pursuer and evader objects\n",
    "__pursuer = Dubins_Car(f,h,v_pursuer,pursuer_init_state, pursuer_init_state, up_max)\n",
    "__evader = Dubins_Car(f,h,v_evader,evader_init_state, evader_init_state,ue_max)\n",
    "\n",
    "evader_model = Model(Ipopt.Optimizer)\n",
    "pursuer_model = Model(Ipopt.Optimizer)\n"
   ]
  },
  {
   "cell_type": "markdown",
   "metadata": {},
   "source": [
    "Implement MPC finite-horizon simulation of pursuer/evader"
   ]
  },
  {
   "cell_type": "code",
   "execution_count": 6,
   "metadata": {},
   "outputs": [
    {
     "data": {
      "text/plain": [
       "3-element Vector{Float64}:\n",
       " 0.0\n",
       " 0.0\n",
       " 1.5707963267948966"
      ]
     },
     "metadata": {},
     "output_type": "display_data"
    }
   ],
   "source": [
    "K = Int64(sim_params.T / sim_params.Δt)\n",
    "xₚ = fill(0.0f0, (3,K))\n",
    "xₑ = fill(0.0f0, (3,K))\n",
    "\n",
    "xₚ[:,1] = pursuer_init_state\n",
    "xₑ[:,1] = evader_init_state\n",
    "\n",
    "\n",
    "# for t in 1:K-1\n",
    "\n",
    "#     ## Solve the optimal control problem for both pursuer and evader\n",
    "#     evader_model = Model(Ipopt.Optimizer)\n",
    "#     pursuer_model = Model(Ipopt.Optimizer)\n",
    "\n",
    "#     ## We let the evader play first\n",
    "\n",
    "#     # solve the evader OCP \n",
    "#     _,_,_,ue_opt = solve_evader_OCP(evader_model, sim_params, __pursuer, __evader);\n",
    "\n",
    "#     # Extract the first optimal control value\n",
    "#     uₑ = ue_opt[1]\n",
    "\n",
    "#     # Update dubins car and store position\n",
    "#     xₑ_kplus1 = __evader.f(Vector{Float64}(xₑ[:,t]),uₑ,[0.0, 0.0],__evader.v,Δt)\n",
    "#     xₑ[:,t+1] = xₑ_kplus1\n",
    "#     __evader.x_true = xₑ_kplus1\n",
    "#     __evader.x_measured = xₑ_kplus1\n",
    "\n",
    "\n",
    "#     ## Now we let the disturbance play second\n",
    "#     _,_,_,up_opt = solve_pursuer_OCP(pursuer_model, sim_params, __pursuer, __evader);\n",
    "\n",
    "#     # extract first optimal control value\n",
    "#     uₚ = up_opt[1]\n",
    "\n",
    "#     # Update dubins car and store position\n",
    "#     xₚ_kplus1  = __pursuer.f(Vector{Float64}(xₚ[:,t]),uₚ,[0.0, 0.0],__pursuer.v,Δt)\n",
    "#     xₚ[:,t+1] = xₚ_kplus1\n",
    "#     __pursuer.x_true = xₚ_kplus1\n",
    "#     __pursuer.x_measured = xₚ_kplus1\n",
    "\n",
    "\n",
    "#     println(t)\n",
    "# end\n",
    "\n",
    "\n"
   ]
  },
  {
   "cell_type": "markdown",
   "metadata": {},
   "source": [
    "Plot/Animate results"
   ]
  },
  {
   "cell_type": "code",
   "execution_count": 7,
   "metadata": {},
   "outputs": [],
   "source": [
    "# plot(xₚ[1,:],xₚ[2,:],seriestype=:scatter,label=\"pursuer\")\n",
    "# plot!(xₑ[1,:],xₑ[2,:],seriestype=:scatter,label=\"evader\")"
   ]
  },
  {
   "cell_type": "code",
   "execution_count": 8,
   "metadata": {},
   "outputs": [],
   "source": [
    "# xmin = minimum(vcat(xₚ[1,:], xₑ[1,:]))\n",
    "# ymin = minimum(vcat(xₚ[2,:], xₑ[2,:]))\n",
    "\n",
    "# xmax = maximum(vcat(xₚ[1,:], xₑ[1,:]))\n",
    "# ymax = maximum(vcat(xₚ[2,:], xₑ[2,:]))\n",
    "\n",
    "\n",
    "# function animate_frame(i)\n",
    "#     plot((xₚ[1,i],xₚ[2,i]),seriestype=:scatter, label = false, mc=:red)\n",
    "#     plot!((xₑ[1,i],xₑ[2,i]),seriestype=:scatter, label = false,mc=:blue)\n",
    "#     xlims!(xmin-1,xmax+1)\n",
    "#     ylims!(ymin-1,ymax+1)\n",
    "# end\n",
    "\n",
    "# plot((xₚ[1,1],xₚ[2,1]),seriestype=:scatter, label = false, mc=:red)\n",
    "# plot!((xₑ[1,1],xₑ[2,1]),seriestype=:scatter, label = false,mc=:blue)\n",
    "\n",
    "# anim = @animate for i in 2:K-1\n",
    "#     animate_frame(i)\n",
    "# end\n",
    "# gif(anim, \"pursuit_evasion.gif\",fps=100)\n"
   ]
  },
  {
   "cell_type": "markdown",
   "metadata": {},
   "source": [
    "Now we introduce some uncertainty. Let's say that we do not know the true state of the evader, but we know the true state of the pursuer and the pursuer knows the true state of the evader."
   ]
  },
  {
   "cell_type": "markdown",
   "metadata": {},
   "source": [
    "Since we do not know the true state of the evader, we can estimate the state of the evader using a bootstrap particle filter"
   ]
  },
  {
   "cell_type": "markdown",
   "metadata": {},
   "source": [
    "Let's first define our boostrap particle filter"
   ]
  },
  {
   "cell_type": "code",
   "execution_count": 9,
   "metadata": {},
   "outputs": [
    {
     "data": {
      "text/plain": [
       "propagate_bootstrap_pf (generic function with 1 method)"
      ]
     },
     "metadata": {},
     "output_type": "display_data"
    }
   ],
   "source": [
    "## Bootstrap Partilce Filter (additive Gaussian)\n",
    "\n",
    "Base.@kwdef mutable struct Particle_Filter\n",
    "    model::Dubins_Car\n",
    "    TimeUpdate::Function\n",
    "    MeasurementUpdate::Function\n",
    "    Resampler::Function\n",
    "    likelihoods::Vector\n",
    "    particles::Array\n",
    "end\n",
    "\n",
    "## function: TimeUpdate\n",
    "# input: \n",
    "#       - x: set of particles in [n x L] matrix\n",
    "#       - model: set of dynamics\n",
    "#       - u: input\n",
    "#       - w: randomly generated noise of same size as x, [n x L]\n",
    "#       - Δt: time step\n",
    "# output:\n",
    "#       - x_plus: all particles propagated one time step\n",
    "function TimeUpdate(x, model, u, w, Δt)\n",
    "    x_plus = Array{Float64}(undef, size(x))\n",
    "    for i = axes(x_plus,2)\n",
    "        x_plus[:,i] = model.f(x[:,i],u,w[:,i], __evader.v, Δt)\n",
    "    end\n",
    "    return x_plus\n",
    "end\n",
    "\n",
    "## function: MeasurementUpdate\n",
    "# input: \n",
    "#       - particle_filter: particle filter struct\n",
    "#       - model: set of dynamics\n",
    "#       - y: observation taken of true state\n",
    "#       - var: measurement variance\n",
    "#\n",
    "# objective: calculate the likelihood associated with each particle in the density\n",
    "function MeasurementUpdate!(particle_filter, model, y, var)\n",
    "    x = particle_filter.particles\n",
    "    likelihoods = Vector(fill(0.0,(L)))\n",
    "    R = I(2)*var\n",
    "    for i = axes(x,2)\n",
    "        err = y-model.h(x[:,i],[0.0, 0.0])\n",
    "        likelihoods[i] = exp.((-1/2)* err' * inv(R) *err)\n",
    "    end\n",
    "    particle_filter.likelihoods = particle_filter.likelihoods.*likelihoods./(sum(particle_filter.likelihoods.*likelihoods))\n",
    "end\n",
    "\n",
    "\n",
    "## function: Resampler\n",
    "# input:\n",
    "#   - particle_filter: particle filter objective\n",
    "# objective: given updated particle likelihoods, resample from current particles to avoid depletion\n",
    "function Resampler(particle_filter)\n",
    "    x_resampled = fill(NaN, size(particle_filter.particles))\n",
    "    CDF = cumsum(particle_filter.likelihoods)\n",
    "    for i = axes(x_resampled,2)\n",
    "        x_resampled[:,i] = particle_filter.particles[:,findfirst(CDF .>= rand(1))]\n",
    "    end\n",
    "    particle_filter.particles = x_resampled\n",
    "    particle_filter.likelihoods = Vector(fill(1,(L)))\n",
    "end\n",
    "\n",
    "## functionL propagate_bootstrap_pf\n",
    "# input: \n",
    "#       - pf: particle filter struct\n",
    "#       - dubins_car: dynamics of a discrete time dubins car\n",
    "#       - u: input signal\n",
    "#       - Σ: process noise variance\n",
    "#       - R: measurement noise variance\n",
    "#       - L: number of particles in the density\n",
    "#       - y: measurement of true state to be used in boostrap pf\n",
    "# \n",
    "# objective:\n",
    "#       - propagate the particle density one time step based on the observation of the state\n",
    "function propagate_bootstrap_pf(pf::Particle_Filter, dubins_car::Dubins_Car, u::Float64, Σ, R, L, y)\n",
    "    # randomly generated process noise\n",
    "    w = randn((2,L))*sqrt(Σ)\n",
    "\n",
    "    # propagate all particles through one time step of dynamics\n",
    "    pf.particles = pf.TimeUpdate(pf.particles, dubins_car, u, w, Δt)\n",
    "\n",
    "    # calculate measurement likelihoods\n",
    "    pf.MeasurementUpdate(pf, dubins_car, y, R)\n",
    "\n",
    "    # resample particles to avoid depletion\n",
    "    pf.Resampler(pf)\n",
    "end"
   ]
  },
  {
   "cell_type": "markdown",
   "metadata": {},
   "source": [
    "Setup for simple test case of particle filter applied to Dubins Car"
   ]
  },
  {
   "cell_type": "code",
   "execution_count": 10,
   "metadata": {},
   "outputs": [
    {
     "data": {
      "text/plain": [
       "test_pf (generic function with 1 method)"
      ]
     },
     "metadata": {},
     "output_type": "display_data"
    }
   ],
   "source": [
    "using CUDA, LinearAlgebra, Distributions\n",
    "\n",
    "####\n",
    "# function: gpu_generate_Xi\n",
    "# input: \n",
    "#   - L = number of particles\n",
    "#   - n = number of dimensions of the state\n",
    "#   - μ = mean state  \n",
    "#   - var = covariance\n",
    "# output: Ξ₀ = Array of randomly sampled states, size: [2 x L]\n",
    "###\n",
    "function gpu_generate_Xi(L :: Int64, n :: Int64, μ::Vector{Float64}, var)\n",
    "    # Gaussian Density with mean vector μ_x0 and covariance matrix Σ_x0\n",
    "    μ_x0 = CuArray(μ)\n",
    "    Σ_x0 = (var*I)\n",
    "\n",
    "    # randomly sample initial states Ξ following Gaussian density\n",
    "    Ξ₀ = CuArray{Float64}(undef,n,L)\n",
    "    Ξ₀ = μ_x0.+sqrt(Σ_x0)*CUDA.randn(n,L)\n",
    "    return (Ξ₀)\n",
    "end\n",
    "\n",
    "\n",
    "## function: test_pf\n",
    "#  inputs: \n",
    "#       - pf: particle filter object\n",
    "#       - __evader: evading dubins car object\n",
    "# objective: run particle filter with a dubins car model with additive gaussian noise and constant turning rate as input\n",
    "function test_pf(pf::Particle_Filter, __evader::Dubins_Car, K, Xi_init)\n",
    "\n",
    "    w_true = randn((2,K))*sqrt(Σ)\n",
    "    test_data = Array{Float64}(undef, (3, L, K))\n",
    "    Xi_plus = Array{Float64}(undef, (3,L))\n",
    "\n",
    "    u = -0.2\n",
    "\n",
    "    Ξ = Xi_init\n",
    "\n",
    "    for t = 1:K-1\n",
    "        test_data[:,:,t] = pf.particles\n",
    "        # propagate the true particle one time step forward \n",
    "        xtrue_plus = __evader.f(x_true[:,t], u, w_true[:,t], __evader.v, Δt)\n",
    "        x_true[:,t+1] = xtrue_plus\n",
    "        __evader.x_true = xtrue_plus\n",
    "\n",
    "        # take measurement of this updated true state\n",
    "        y = __evader.h(xtrue_plus, sqrt(R)*randn(2))\n",
    "\n",
    "        # based on new observation, update particles with bootstrap particle filter\n",
    "        propagate_bootstrap_pf(pf, __evader, u, Σ, R, L, y)\n",
    "\n",
    "    end\n",
    "\n",
    "    return test_data\n",
    "end"
   ]
  },
  {
   "cell_type": "markdown",
   "metadata": {},
   "source": [
    "Run test case"
   ]
  },
  {
   "cell_type": "code",
   "execution_count": 11,
   "metadata": {},
   "outputs": [
    {
     "data": {
      "text/plain": [
       "3-element Vector{Float64}:\n",
       " 0.022227448501961736\n",
       " 0.09150331649351572\n",
       " 1.5707963267949117"
      ]
     },
     "metadata": {},
     "output_type": "display_data"
    }
   ],
   "source": [
    "\n",
    "L = 500                         # number of particles               \n",
    "n = 3                           # dimension of states\n",
    "μ = [evader_init_state[1],      # mean initial state\n",
    "    evader_init_state[2]]\n",
    "R = 0.75                         # measurement variance\n",
    "Σ = 0.10                      # process variance\n",
    "\n",
    "# initial state density\n",
    "Ξ = vcat(Array(gpu_generate_Xi(L, n-1, μ, R)), fill(evader_init_state[3],(L))')\n",
    "\n",
    "# initialize particle filter with the initial state density\n",
    "pf = Particle_Filter(__evader, TimeUpdate, MeasurementUpdate!, Resampler, Vector(fill(1,(L))) , Ξ)\n",
    "pf.particles = Ξ\n",
    "# inital candidate state is the conditional mean\n",
    "x_star = vec(mean(pf.particles, dims=2))\n",
    "\n",
    "# randomly generate a true state\n",
    "x_true = Matrix{Float64}(undef, (n,K))\n",
    "x_true[:,1] = vcat((μ + sqrt(Σ)*randn(2)), evader_init_state[3])\n",
    "__evader.x_true = x_true[:,1]\n",
    "__evader.x_measured = x_star\n",
    "\n",
    "# perform a simple simulation with the particle filter\n",
    "# test_data = test_pf(pf, __evader, K, Ξ);\n"
   ]
  },
  {
   "cell_type": "markdown",
   "metadata": {},
   "source": [
    "Plot results"
   ]
  },
  {
   "cell_type": "code",
   "execution_count": 12,
   "metadata": {},
   "outputs": [],
   "source": [
    "# plot(Ξ[1,:], Ξ[2,:], seriestype=:scatter, ms = 0.5, label = false)\n",
    "# for i = 2:K-1\n",
    "#     plot!(test_data[1,:,i], test_data[2,:,i], seriestype=:scatter, ms = 0.5, label=false)\n",
    "# end\n",
    "# plot!(x_true[1,:], x_true[2,:], seriestype=:scatter, ms = 4.0, label = \"x_true\")\n",
    "# savefig(\"test.png\")"
   ]
  },
  {
   "cell_type": "markdown",
   "metadata": {},
   "source": [
    "Now, let's apply the particle filter to the pursuit/evasion MPC loop"
   ]
  },
  {
   "cell_type": "code",
   "execution_count": 13,
   "metadata": {},
   "outputs": [
    {
     "data": {
      "text/plain": [
       "MPC_loop (generic function with 1 method)"
      ]
     },
     "metadata": {},
     "output_type": "display_data"
    }
   ],
   "source": [
    "\n",
    "function MPC_loop(sim_params, __evader, __pursuer)\n",
    "    K = Int64(sim_params.T / sim_params.Δt)\n",
    "    xₚ = fill(0.0f0, (3,K))\n",
    "    xₑ = fill(0.0f0, (3,K))\n",
    "\n",
    "    xₚ[:,1] = pursuer_init_state\n",
    "    xₑ[:,1] = evader_init_state\n",
    "\n",
    "    w_true = randn((2,K))*sqrt(Σ)\n",
    "    test_data = Array{Float64}(undef, (3, L, K))\n",
    "\n",
    "    # intial state density\n",
    "    Ξ = vcat(Array(gpu_generate_Xi(L, n-1, μ, R)), fill(evader_init_state[3],(L))')\n",
    "\n",
    "    # initialize particle filter with the initial state density\n",
    "    pf = Particle_Filter(__evader, TimeUpdate, MeasurementUpdate!, Resampler, Vector(fill(1,(L))) , Ξ)\n",
    "    pf.particles = Ξ\n",
    "    # inital candidate state is the conditional mean\n",
    "    x_star = vec(mean(pf.particles, dims=2))\n",
    "    __evader.x_measured = x_star\n",
    "\n",
    "\n",
    "    for t in 1:K-1\n",
    "\n",
    "        ## Solve the optimal control problem for both pursuer and evader\n",
    "        filtered_evader_model = Model(Ipopt.Optimizer)\n",
    "        filtered_pursuer_model = Model(Ipopt.Optimizer)\n",
    "\n",
    "        test_data[:,:,t] = pf.particles \n",
    "\n",
    "        ## We let the evader play first\n",
    "\n",
    "        # solve the evader OCP \n",
    "        _,_,_,ue_opt = solve_evader_OCP(filtered_evader_model, sim_params, __pursuer, __evader);\n",
    "\n",
    "        # Extract the first optimal control value\n",
    "        uₑ = ue_opt[1]\n",
    "\n",
    "        # Update dubins car and store position\n",
    "        xₑ_kplus1 = __evader.f(Vector{Float64}(xₑ[:,t]),uₑ,w_true[:,t],__evader.v,Δt)\n",
    "        xₑ[:,t+1] = xₑ_kplus1\n",
    "        __evader.x_true = xₑ_kplus1\n",
    "\n",
    "\n",
    "        # take measurement of this updated true state\n",
    "        y = __evader.h(__evader.x_true, sqrt(R)*randn(2))\n",
    "\n",
    "        # based on new observation, update particles with bootstrap particle filter\n",
    "        propagate_bootstrap_pf(pf, __evader, uₑ, Σ, R, L, y)\n",
    "        \n",
    "        # evader will act on the conditional mean of the probability distribution\n",
    "        __evader.x_measured = vec(mean(pf.particles, dims=2))\n",
    "\n",
    "\n",
    "        ## Now we let the disturbance play second\n",
    "        _,_,_,up_opt = solve_pursuer_OCP(filtered_pursuer_model, sim_params, __pursuer, __evader);\n",
    "\n",
    "        # extract first optimal control value\n",
    "        uₚ = up_opt[1]\n",
    "\n",
    "        # Update dubins car and store position\n",
    "        xₚ_kplus1  = __pursuer.f(Vector{Float64}(xₚ[:,t]),uₚ,[0.0, 0.0],__pursuer.v,Δt)\n",
    "        xₚ[:,t+1] = xₚ_kplus1\n",
    "        __pursuer.x_true = xₚ_kplus1\n",
    "        __pursuer.x_measured = xₚ_kplus1\n",
    "\n",
    "\n",
    "        println(t)\n",
    "    end\n",
    "\n",
    "    return xₑ, xₚ, test_data\n",
    "\n",
    "end\n",
    "\n",
    "# xₑ, xₚ, test_data = MPC_loop(sim_params, __evader, __pursuer)"
   ]
  },
  {
   "cell_type": "code",
   "execution_count": 14,
   "metadata": {},
   "outputs": [
    {
     "data": {
      "text/plain": [
       "animate_frame (generic function with 1 method)"
      ]
     },
     "metadata": {},
     "output_type": "display_data"
    }
   ],
   "source": [
    "function animate_frame(i)\n",
    "    plot(test_data[1,:,i], test_data[2,:,i], seriestype=:scatter, ms = 0.75, label=false)\n",
    "    plot!((xₑ[1,i],xₑ[2,i]),seriestype=:scatter, label = false,mc=:blue)\n",
    "    plot!((xₚ[1,i],xₚ[2,i]),seriestype=:scatter, label = false,mc=:red)\n",
    "    xlims!(xmin-1,xmax+1)\n",
    "    ylims!(ymin-1,ymax+1)\n",
    "end\n",
    "\n",
    "\n",
    "# plot((xₚ[1,1], xₚ[2,1]), seriestype=:scatter, label = \"true pursuer\",mc=:red)\n",
    "# anim = @animate for i = 2:K-1\n",
    "#     animate_frame(i)\n",
    "# end\n",
    "# gif(anim, \"filtered_pursuit.gif\",fps=100)\n",
    "\n"
   ]
  },
  {
   "cell_type": "markdown",
   "metadata": {},
   "source": [
    "Now, let's implement the State Selection Algorithm for comparison. "
   ]
  },
  {
   "cell_type": "markdown",
   "metadata": {},
   "source": [
    "First implement SSA on a single time step"
   ]
  },
  {
   "cell_type": "code",
   "execution_count": 15,
   "metadata": {},
   "outputs": [],
   "source": [
    "# import Packages\n",
    "using CUDA\n",
    "using Test\n",
    "using BenchmarkTools\n",
    "using Random\n",
    "using LinearAlgebra\n",
    "using Distributions"
   ]
  },
  {
   "cell_type": "code",
   "execution_count": 16,
   "metadata": {},
   "outputs": [
    {
     "data": {
      "text/plain": [
       "SSA_Params"
      ]
     },
     "metadata": {},
     "output_type": "display_data"
    }
   ],
   "source": [
    "@kwdef mutable struct SSA_Params\n",
    "    M :: Int64\n",
    "    N :: Int64\n",
    "    L :: Int64\n",
    "    n :: Int64\n",
    "    T :: Int64\n",
    "    Δt :: Float64\n",
    "    α :: Float64\n",
    "    ϵ :: Float64\n",
    "    δ :: Float64\n",
    "end"
   ]
  },
  {
   "cell_type": "code",
   "execution_count": 17,
   "metadata": {},
   "outputs": [
    {
     "data": {
      "text/plain": [
       "xk2prime! (generic function with 1 method)"
      ]
     },
     "metadata": {},
     "output_type": "display_data"
    }
   ],
   "source": [
    "using Base.Threads\n",
    "\n",
    "function solve_particle_OCP(model, ssa_params::SSA_Params, __pursuer::Dubins_Car, __evader::Dubins_Car, particle_state::Vector{Float64})\n",
    "    N = ssa_params.N\n",
    "    Δt = ssa_params.Δt\n",
    "\n",
    "\n",
    "    x_pursuer = __pursuer.x_true[1]\n",
    "    y_pursuer = __pursuer.x_true[2]\n",
    "\n",
    "    # solve the optimal control problem assuming we start at the given state particle\n",
    "    x0 = particle_state[1]\n",
    "    y0 = particle_state[2]\n",
    "    θ0 = particle_state[3]\n",
    "\n",
    "    v = __evader.v\n",
    "    u_max = __evader.u_max\n",
    "\n",
    "    # Decision variables\n",
    "    x = @variable(model, [1:N+1])      # x position\n",
    "    y = @variable(model, [1:N+1])      # y position\n",
    "    θ = @variable(model, [1:N+1])      # orientation\n",
    "    ω = @variable(model, [1:N])        # control input (turning rate)\n",
    "\n",
    "    # Objective function (quadratic cost on position and control) --> maximize distance to pursuer\n",
    "    @objective(model, Min, \n",
    "        -sum((x[k] - x_pursuer)^2 + (y[k] - y_pursuer)^2 for k in 1:N) + sum(ω[k]^2 for k in 1:N))\n",
    "\n",
    "    # Initial conditions\n",
    "    @constraint(model, x[1] == x0)\n",
    "    @constraint(model, y[1] == y0)\n",
    "    @constraint(model, θ[1] == θ0)\n",
    "\n",
    "    # Dubins car dynamics constraints\n",
    "    for k in 1:N\n",
    "        @constraint(model, x[k+1] == x[k] + v * cos(θ[k]) * Δt + randn()*Σ)\n",
    "        @constraint(model, y[k+1] == y[k] + v * sin(θ[k]) * Δt + randn()*Σ)\n",
    "        @constraint(model, θ[k+1] == θ[k] + ω[k] * Δt)\n",
    "\n",
    "        # bounded control input\n",
    "        @constraint(model, -u_max <= ω[k] <= u_max)\n",
    "\n",
    "    end\n",
    "\n",
    "    # Solve the optimization problem\n",
    "    optimize!(model)\n",
    "\n",
    "    # Extract results\n",
    "    x_opt = value.(x)\n",
    "    y_opt = value.(y)\n",
    "    θ_opt = value.(θ)\n",
    "    ω_opt = value.(ω)\n",
    "\n",
    "    return x_opt,y_opt,θ_opt,ω_opt\n",
    "end\n",
    "\n",
    "function xprime!(ssa_params, Ξ::Array{Float64}, u::Array{Float64}, __pursuer::Dubins_Car, __evader::Dubins_Car)\n",
    "    L = ssa_params.L\n",
    "    ssa_particle_model = Model(Ipopt.Optimizer)\n",
    "    set_silent(ssa_particle_model)\n",
    "\n",
    "    for i in 1:L\n",
    "        __,__,__,ω_opt = solve_particle_OCP(ssa_particle_model, ssa_params, __pursuer, __evader, Ξ[:,i])\n",
    "        u[i,:] = ω_opt[1:N]\n",
    "    end\n",
    "end\n",
    "\n",
    "function xk2prime!(ssa_params, __evader, u, w, xk2prime, i)\n",
    "    M = ssa_params.M\n",
    "    N = ssa_params.N\n",
    "\n",
    "    Threads.@threads for j in 1:M\n",
    "        for t = 1:N-1\n",
    "            xk2prime[:,j,t+1] = dynamics.f(xk2prime[:,j,t],u[i,t],w[:,j,t])\n",
    "        end\n",
    "    end\n",
    "end"
   ]
  },
  {
   "cell_type": "code",
   "execution_count": 20,
   "metadata": {},
   "outputs": [],
   "source": [
    "L = 200                 # total number of particles\n",
    "M = 50                  # Monte Carlo Samples\n",
    "Δt = 0.1                 # time step\n",
    "T = 20                   # total simulation time\n",
    "N = Int64(0.2*(T/Δt))           # Time horizon\n",
    "K = Int64(T/Δt)          # number of time steps\n",
    "n = 3                    # dimension of state\n",
    "α = 0.15\n",
    "ϵ = 0.30\n",
    "δ = 0.10\n",
    "ssa_params =  SSA_Params(M,N,L,n,T,Δt,α,ϵ,δ)\n",
    "\n",
    "# initialize pursuer/evader objects\n",
    "__pursuer = Dubins_Car(f,h,v_pursuer,pursuer_init_state, pursuer_init_state, up_max)\n",
    "__evader = Dubins_Car(f,h,v_evader,evader_init_state, evader_init_state,ue_max)\n",
    "\n",
    "# initial state density\n",
    "Ξ = vcat(Array(gpu_generate_Xi(L, n-1, μ, R)), fill(evader_init_state[3],(L))')\n",
    "\n",
    "\n",
    "mc_states = Array{Float64}(undef, (n,M,N))\n",
    "\n",
    "# calculate control sequences for each particle \n",
    "u = Array{Float64}(undef,(L,N))\n",
    "xprime!(ssa_params, Ξ, u, __pursuer, __evader)\n",
    "\n",
    "\n",
    "# ### START OF MONTE CARLO LOOP ###\n",
    "# mc_sample_index = (rand(1:L, M))\n",
    "# mc_states[:,:,1] = Ξ[:,mc_sample_index]\n"
   ]
  },
  {
   "cell_type": "code",
   "execution_count": 19,
   "metadata": {},
   "outputs": [
    {
     "data": {
      "text/plain": [
       "200×40 Matrix{Float64}:\n",
       " -1.0       -1.0       -1.0       -0.8834    …  -6.28555e-39  -4.54435e-45\n",
       " -1.0       -1.0       -1.0       -1.0          -4.6756e-41   -1.27091e-44\n",
       " -1.0       -1.0       -1.0       -0.86024       2.93907e-39   3.58732e-43\n",
       " -1.0       -1.0       -1.0       -1.0           3.34511e-38   4.30479e-42\n",
       " -1.0       -1.0       -1.0       -1.0          -1.61735e-39   2.7838e-42\n",
       " -1.0       -1.0       -1.0       -1.0       …  -1.76819e-30  -1.70468e-40\n",
       " -1.0       -1.0       -0.960571  -0.822418     -2.9482e-30   -2.06771e-40\n",
       " -1.0       -1.0       -1.0       -1.0          -3.35798e-40   1.04899e-42\n",
       " -1.0       -1.0       -1.0       -1.0           1.54497e-30   3.4603e-31\n",
       " -1.0       -1.0       -1.0       -1.0          -7.72401e-31  -2.30527e-34\n",
       "  ⋮                                          ⋱                \n",
       " -1.0       -1.0       -0.992885  -0.772018      9.90941e-41   2.18838e-41\n",
       " -1.0       -1.0       -1.0       -1.0          -1.00151e-39   1.89242e-41\n",
       " -1.0       -1.0       -1.0       -1.0          -4.06367e-40  -5.7122e-44\n",
       " -1.0       -1.0       -1.0       -1.0           2.02567e-35  -3.2907e-43\n",
       " -0.917586  -0.728037  -0.575071  -0.452003  …  -1.87618e-31  -4.36588e-41\n",
       " -1.0       -1.0       -1.0       -1.0          -6.86453e-30  -1.32058e-39\n",
       " -1.0       -1.0       -1.0       -1.0          -1.21064e-34   8.25367e-34\n",
       " -1.0       -1.0       -1.0       -1.0          -6.37257e-38  -3.626e-42\n",
       " -1.0       -1.0       -1.0       -1.0           7.41367e-38  -7.41111e-44"
      ]
     },
     "metadata": {},
     "output_type": "display_data"
    }
   ],
   "source": [
    "u"
   ]
  }
 ],
 "metadata": {
  "kernelspec": {
   "display_name": "Julia 1.10.4",
   "language": "julia",
   "name": "julia-1.10"
  },
  "language_info": {
   "file_extension": ".jl",
   "mimetype": "application/julia",
   "name": "julia",
   "version": "1.10.4"
  }
 },
 "nbformat": 4,
 "nbformat_minor": 4
}
