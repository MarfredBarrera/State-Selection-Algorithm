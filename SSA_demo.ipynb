{
 "cells": [
  {
   "cell_type": "code",
   "execution_count": 61,
   "metadata": {},
   "outputs": [],
   "source": [
    "# import Packages\n",
    "using CUDA\n",
    "using Test\n",
    "using BenchmarkTools\n",
    "using Random\n",
    "using LinearAlgebra\n",
    "using Distributions"
   ]
  },
  {
   "cell_type": "markdown",
   "metadata": {},
   "source": [
    "Set problem parameters"
   ]
  },
  {
   "cell_type": "code",
   "execution_count": 62,
   "metadata": {},
   "outputs": [
    {
     "data": {
      "text/plain": [
       "Constraints"
      ]
     },
     "metadata": {},
     "output_type": "display_data"
    }
   ],
   "source": [
    "Base.@kwdef struct Params\n",
    "    M :: Int64\n",
    "    N :: Int64\n",
    "    L :: Int64\n",
    "    n :: Int64\n",
    "    T :: Int64\n",
    "end\n",
    "\n",
    "Base.@kwdef struct Constraints\n",
    "    Ulim :: Float64\n",
    "    α :: Float32\n",
    "    ϵ :: Float32\n",
    "    δ :: Float64\n",
    "\n",
    "    x1_upperlim :: Float64\n",
    "    x1_lowerlim :: Float64\n",
    "    y1_upperlim :: Float64\n",
    "    y1_lowerlim :: Float64\n",
    "\n",
    "    x2_upperlim :: Float64\n",
    "    x2_lowerlim :: Float64\n",
    "    y2_upperlim :: Float64\n",
    "    y2_lowerlim :: Float64\n",
    "end"
   ]
  },
  {
   "cell_type": "markdown",
   "metadata": {},
   "source": [
    "Define dynamics"
   ]
  },
  {
   "cell_type": "code",
   "execution_count": 63,
   "metadata": {},
   "outputs": [
    {
     "data": {
      "text/plain": [
       "u (generic function with 1 method)"
      ]
     },
     "metadata": {},
     "output_type": "display_data"
    }
   ],
   "source": [
    "Base.@kwdef mutable struct Model\n",
    "    f::Function\n",
    "    h::Function\n",
    "    u::Function\n",
    "    Q::Matrix{Float64}\n",
    "    R::Float64\n",
    "end\n",
    "\n",
    "## motion model dynamics\n",
    "function f(x,u,w)\n",
    "    xk = Vector{Float64}(undef, 2)\n",
    "    \n",
    "    xk[1] = 0.9*x[1] + 0.2*x[2] + w[1]\n",
    "    xk[2] = -0.15*x[1] + 0.9*x[2] + 0.05*x[1]*x[2] + u + w[2]\n",
    "\n",
    "    return xk\n",
    "end\n",
    "\n",
    "## measurement model dynamics\n",
    "function h(x,v)\n",
    "    return x[1,:] .+ v\n",
    "end\n",
    "\n",
    "## controller\n",
    "function u(x)\n",
    "    return -0.05*x[1]*x[2]\n",
    "end"
   ]
  },
  {
   "cell_type": "code",
   "execution_count": 64,
   "metadata": {},
   "outputs": [
    {
     "data": {
      "text/plain": [
       "Model(f, h, u, [1.0 0.0; 0.0 1.0], 0.09)"
      ]
     },
     "metadata": {},
     "output_type": "display_data"
    }
   ],
   "source": [
    "#  process noise variance ωₖ and scalar measurement noise variance vₖ\n",
    "ω = 0.3^2\n",
    "v = 0.3^2\n",
    "\n",
    "# initialize dynamics\n",
    "Q = Matrix{Float64}(I, 2, 2)\n",
    "R = v\n",
    "dynamics = Model(f,h,u,Q,R)"
   ]
  },
  {
   "cell_type": "markdown",
   "metadata": {},
   "source": [
    "Define Bootstrap Particle Filter"
   ]
  },
  {
   "cell_type": "code",
   "execution_count": 65,
   "metadata": {},
   "outputs": [
    {
     "data": {
      "text/plain": [
       "Resampler (generic function with 1 method)"
      ]
     },
     "metadata": {},
     "output_type": "display_data"
    }
   ],
   "source": [
    "Base.@kwdef mutable struct Particle_Filter\n",
    "    model::Model\n",
    "    TimeUpdate::Function\n",
    "    MeasurementUpdate::Function\n",
    "    Resampler::Function\n",
    "    likelihoods::Vector\n",
    "    particles::Array\n",
    "end\n",
    "\n",
    "function TimeUpdate(x, model, u, w)\n",
    "    x_plus = Array{Float64}(undef, n, size(x,2))\n",
    "    for i = axes(x,2)\n",
    "        x_plus[:,i] = model.f(x[:,i],u,w[:,i])\n",
    "    end\n",
    "    return x_plus\n",
    "end\n",
    "\n",
    "function MeasurementUpdate!(particle_filter, model, y)\n",
    "    x = particle_filter.particles\n",
    "    measurement_error = y.-model.h(x,0)\n",
    "    likelihoods = exp.((-1/2)*(measurement_error.^2)*inv(model.R))\n",
    "    particle_filter.likelihoods = particle_filter.likelihoods.*likelihoods./(sum(particle_filter.likelihoods.*likelihoods))\n",
    "end\n",
    "\n",
    "\n",
    "function Resampler(particle_filter)\n",
    "    x_resampled = fill(NaN, size(particle_filter.particles))\n",
    "    CDF = cumsum(particle_filter.likelihoods)\n",
    "    for i = 1:length(particle_filter.likelihoods)\n",
    "        x_resampled[:,i] = particle_filter.particles[:,findfirst(CDF .>= rand(1))]\n",
    "    end\n",
    "    particle_filter.particles = x_resampled\n",
    "    particle_filter.likelihoods = Vector(fill(1,(L)))\n",
    "end"
   ]
  },
  {
   "cell_type": "code",
   "execution_count": 66,
   "metadata": {},
   "outputs": [],
   "source": []
  },
  {
   "cell_type": "markdown",
   "metadata": {},
   "source": [
    "Define some utility functions"
   ]
  },
  {
   "cell_type": "code",
   "execution_count": 67,
   "metadata": {},
   "outputs": [
    {
     "data": {
      "text/plain": [
       "gpu_sample_gaussian_distribution (generic function with 1 method)"
      ]
     },
     "metadata": {},
     "output_type": "display_data"
    }
   ],
   "source": [
    "# function: check_constraints\n",
    "# input: x - 2D row vector of state particles\n",
    "# output: 1 x length(x) vector of 1s and 0s, 1 being a state violation\n",
    "function check_constraints(x)\n",
    "    constraint_count = fill(0.0f0,size(x,2))\n",
    "    for i = eachindex(constraint_count)\n",
    "        in_region1 = (x1_lowerlim < x[1,i] < x1_upperlim) && (y1_lowerlim < x[2,i] < y1_upperlim)\n",
    "        in_region2 = (x2_lowerlim < x[1,i] < x2_upperlim) && (y2_lowerlim < x[2,i] < y2_upperlim)\n",
    "\n",
    "        if(in_region1||in_region2)\n",
    "            constraint_count[i] = 1\n",
    "        end\n",
    "    end\n",
    "    return constraint_count\n",
    "end\n",
    "\n",
    "####\n",
    "# function: gpu_generate_Xi\n",
    "# input: L = number of particles\n",
    "# output: Ξ₀ = Array of randomly sampled states, size: [2 x L]\n",
    "###\n",
    "function gpu_generate_Xi(L :: Int64, n :: Int64, μ)\n",
    "    # Gaussian Density with mean vector μ_x0 and covariance matrix Σ_x0\n",
    "    μ_x0 = CuArray(μ)\n",
    "    Σ_x0 = (0.5*I)\n",
    "\n",
    "    # randomly sample initial states Ξ following Gaussian density\n",
    "    Ξ₀ = CuArray{Float64}(undef,n,L)\n",
    "    Ξ₀ = μ_x0.+sqrt(Σ_x0)*CUDA.randn(n,L)\n",
    "    return (Ξ₀)\n",
    "end\n",
    "\n",
    "function gpu_sample_gaussian_distribution(mean, var, dims)\n",
    "    w = CuArray{Float64}(undef, dims[1],dims[2],dims[3])\n",
    "    w = mean.+sqrt(var)*CUDA.randn(dims[1],dims[2],dims[3])\n",
    "    return w\n",
    "end"
   ]
  },
  {
   "cell_type": "code",
   "execution_count": 68,
   "metadata": {},
   "outputs": [
    {
     "data": {
      "text/plain": [
       "launch_constraint_kernel! (generic function with 1 method)"
      ]
     },
     "metadata": {},
     "output_type": "display_data"
    }
   ],
   "source": [
    "# function: constraint_violation_kernel!\n",
    "# objective: calculate constraint violation rates\n",
    "function constraint_violation_kernel!(SSA_constraints,T,M,state,u, state_violation_count, i)\n",
    "    # unpack SSA_constraints struct\n",
    "    Ulim = SSA_constraints.Ulim\n",
    "    x1_upperlim = SSA_constraints.x1_upperlim\n",
    "    x1_lowerlim = SSA_constraints.x1_lowerlim\n",
    "    y1_upperlim = SSA_constraints.y1_upperlim\n",
    "    y1_lowerlim = SSA_constraints.y1_lowerlim\n",
    "    x2_upperlim = SSA_constraints.x2_upperlim\n",
    "    x2_lowerlim = SSA_constraints.x2_lowerlim\n",
    "    y2_upperlim = SSA_constraints.y2_upperlim\n",
    "    y2_lowerlim = SSA_constraints.y2_lowerlim\n",
    "\n",
    "    index = (blockIdx().x - 1) * blockDim().x + threadIdx().x\n",
    "    stride = gridDim().x * blockDim().x\n",
    "\n",
    "    # compare each trajectory with state constraints\n",
    "    for j = index:stride:M\n",
    "        for t = 1:T\n",
    "\n",
    "            in_region1 = (x1_lowerlim < state[1,j,t] < x1_upperlim) && (y1_lowerlim < state[2,j,t] < y1_upperlim)\n",
    "            in_region2 = (x2_lowerlim < state[1,j,t] < x2_upperlim) && (y2_lowerlim < state[2,j,t] < y2_upperlim)\n",
    "\n",
    "            if(in_region1||in_region2)\n",
    "                state_violation_count[j,t] = 1\n",
    "            end\n",
    "        end\n",
    "    end\n",
    "\n",
    "\n",
    "    return \n",
    "end\n",
    "\n",
    "# function: launch_constraint_kernel!\n",
    "# objective: launch kernel for violation rate calculation\n",
    "function launch_constraint_kernel!(SSA_constraints,T,M,state,u, state_violation_count, i)\n",
    "    kernel = @cuda launch=false constraint_violation_kernel!(SSA_constraints,T,M,state,u, state_violation_count, i)\n",
    "    config = launch_configuration(kernel.fun)\n",
    "    threads = min(M, config.threads)\n",
    "    blocks = cld(M, threads)\n",
    "\n",
    "    CUDA.@sync begin\n",
    "        kernel(SSA_constraints,T,M,state,u, state_violation_count, i; threads, blocks)\n",
    "    end\n",
    "end"
   ]
  },
  {
   "cell_type": "code",
   "execution_count": 69,
   "metadata": {},
   "outputs": [
    {
     "data": {
      "text/plain": [
       "J (generic function with 1 method)"
      ]
     },
     "metadata": {},
     "output_type": "display_data"
    }
   ],
   "source": [
    "# function: xkprime!\n",
    "# input:\n",
    "# - SSA_params: struct of parameters containing L and N\n",
    "# - u: array of control sequences [1 X L]\n",
    "# - w: array of random noise [2 x M x N]\n",
    "# - xkprime: batch of Monte Carlo sampled trajectories\n",
    "# - dynamics: open-loop dynamics\n",
    "function xkprime!(SSA_params, u, w, xkprime, dynamics)\n",
    "    L = SSA_params.L\n",
    "    N = SSA_params.N\n",
    "    for i = 1:L\n",
    "        for t = 1:N-1\n",
    "            u[i,t] = dynamics.u(xkprime[:,i,t])\n",
    "            xkprime[:,i,t+1] = dynamics.f(xkprime[:,i,t], u[i,t], w[:,i,t])\n",
    "        end\n",
    "    end\n",
    "end\n",
    "\n",
    "\n",
    "# function: xk2prime\n",
    "# input:\n",
    "# - N: time horizon\n",
    "# - M: Monte Carlo sample number \n",
    "# - u: array of control sequences [1 X L]\n",
    "# - w: array of random noise [2 x M x N]\n",
    "# - xk2prime: batch of Monte Carlo sampled trajectories\n",
    "function xk2prime!(N, M, u, w, xk2prime, i)\n",
    "    for j = 1:M\n",
    "        for t = 1:N-1\n",
    "            xk2prime[:,j,t+1] = dynamics.f(xk2prime[:,j,t],u[i,t],w[:,j,t])\n",
    "        end\n",
    "    end\n",
    "end\n",
    "\n",
    "\n",
    "function J(x,u)\n",
    "    return x'*x + u'*u\n",
    "end"
   ]
  },
  {
   "cell_type": "markdown",
   "metadata": {},
   "source": [
    "Define the State Selection Algorithm"
   ]
  },
  {
   "cell_type": "code",
   "execution_count": 70,
   "metadata": {},
   "outputs": [
    {
     "data": {
      "text/plain": [
       "state_selection_algorithm (generic function with 1 method)"
      ]
     },
     "metadata": {},
     "output_type": "display_data"
    }
   ],
   "source": [
    "# function: state_selection_algorithm\n",
    "# inputs:\n",
    "# - Ξ: particle density\n",
    "# - SSA_params: struct of parameters\n",
    "# - SSA_constraints: struct of state and input constraints\n",
    "function state_selection_algorithm(J,Ξ,SSA_params,SSA_constraints)\n",
    "    n = SSA_params.n\n",
    "    L = SSA_params.L\n",
    "    N = SSA_params.N\n",
    "    M = SSA_params.M\n",
    "\n",
    "    # intialize state array\n",
    "    # state = CUDA.fill(1.0f0, (n,L,N))\n",
    "    state = fill(1.0f0, (n,L,N))\n",
    "\n",
    "    # fill state array with intial particle density\n",
    "    state[:,:,1] = Ξ\n",
    "\n",
    "    # initalize input array\n",
    "    # u = CUDA.fill(0.0f0, L,N)\n",
    "    u = fill(0.0f0, L,N)\n",
    "\n",
    "    # generate random noise sequence Wprime for time horizon N for \n",
    "    # state density with num particles L\n",
    "    # w = (gpu_sample_gaussian_distribution(0, ω, (n,L,N)))\n",
    "    w = Array(gpu_sample_gaussian_distribution(0, ω, (n,L,N)))\n",
    "    w2 = Array(gpu_sample_gaussian_distribution(0, ω, (n,L,N)))\n",
    "\n",
    "    # ### First, lets generate the x' trajectories for time horizon N for each particle in state density Xi ###\n",
    "    # CUDA.@sync launch_xprime_kernel!(state, N, w, u)\n",
    "    xkprime!(SSA_params,u,w,state,dynamics)\n",
    "\n",
    "    # declare vectors for x'' trajectories, cost, and constraint violation rate calculations\n",
    "    cost = fill(0.0f0, L)\n",
    "    sampled_costs = CUDA.fill(0.0f0, M,N)\n",
    "    state_violation_count = CUDA.fill(0.0f0, M,N)\n",
    "    sampled_state_violations = CUDA.fill(0.0f0,L,N)\n",
    "    sampled_control_violations = CUDA.fill(0.0f0,L,N)\n",
    "    total_state_violations = fill(false,L)\n",
    "    total_control_violations = fill(false,L)\n",
    "    state_2prime = CUDA.fill(0.0f0, (n,M,N))\n",
    "\n",
    "\n",
    "    Ξ = CuArray(Ξ)\n",
    "    # iterate through each particle in Ξ and run M monte carlo simulations for each particle \n",
    "    for i = 1:L\n",
    "        CUDA.@sync begin\n",
    "            # calculate x'' trajectories\n",
    "\n",
    "            mc_sample_index = (rand(1:L, M))\n",
    "            state_2prime[:,:,1] = Ξ[:,mc_sample_index]\n",
    "            xk2prime!(N, M, Array(u), w2, Array(state_2prime), i)\n",
    "            # launch_xk2prime_kernel!(SSA_params, state_2prime, u, w2, i)\n",
    "\n",
    "            # calculate cost and state/control violation rates\n",
    "            launch_constraint_kernel!(SSA_constraints, N, M , state_2prime, CuArray(u), state_violation_count, i)\n",
    "\n",
    "            # sum the sampled cost to calculate the cost of each L particles\n",
    "            cost[i] = M*sum(state[:,i,:].^2) + sum(state_2prime.^2)\n",
    "\n",
    "            # sum the violation counts to make an [L x N] array, which contains the total violations of each trajectory\n",
    "            sampled_state_violations[i,:] = sum(state_violation_count, dims=1)\n",
    "\n",
    "            # indicate which particles satisfy state constraints\n",
    "            total_state_violations[i] = all(sampled_state_violations[i,:]/M .< α)\n",
    "            # total_control_violations[i] = all(sampled_control_violations[i,:]/M .< α)\n",
    "        end\n",
    "    end\n",
    "\n",
    "    # mask for feasible states\n",
    "    feasibility_mask = total_state_violations\n",
    "\n",
    "    u = Array(u)\n",
    "\n",
    "    \n",
    "    if(sum(feasibility_mask)==0) # if there are no feasible states, the feasible set is empty and SSA cannot proceed\n",
    "        println(\"Feasible set is empty!\")\n",
    "        cost_val,candidate_index = findmin(cost)\n",
    "        return Array(Ξ)[:,candidate_index], u[candidate_index,1], candidate_index, feasibility_mask\n",
    "    else # otherwise, find feasible state with minimum cost\n",
    "        cost_val, candidate_index = findmin(cost[feasibility_mask])\n",
    "        # println(cost_val,candidate_index, Array(Ξ)[:,candidate_index])\n",
    "        return Array(Ξ)[:,candidate_index], u[candidate_index,1], candidate_index, feasibility_mask\n",
    "    end\n",
    "\n",
    "    return\n",
    "end"
   ]
  },
  {
   "cell_type": "markdown",
   "metadata": {},
   "source": [
    "Now we run the simulation"
   ]
  },
  {
   "cell_type": "code",
   "execution_count": 71,
   "metadata": {},
   "outputs": [
    {
     "data": {
      "text/plain": [
       "run_simulation (generic function with 3 methods)"
      ]
     },
     "metadata": {},
     "output_type": "display_data"
    }
   ],
   "source": [
    "## function: run_simulation(T)\n",
    "# input:\n",
    "#       T - run simulation for T time steps\n",
    "# objective: run the bootstrap particle filter in conjunction with the SSA/CM for T time steps\n",
    "function run_simulation(T,RUN_SSA=true,RUN_CM=false)\n",
    "\n",
    "    \n",
    "    sim_data = fill(0.0f0, (n,L,T))\n",
    "    violation_rate = fill(0.0f0,T)\n",
    "    x_candidate = fill(0.0f0, (n,T))\n",
    "\n",
    "    # initialize and store true state\n",
    "    x_true = Array{Float64}(undef, n, T+1)\n",
    "    x_true[:,1] = μ.+ sqrt(Σ)*randn(2)\n",
    "\n",
    "    # generate state density Xi according to Gaussian parameters\n",
    "    Ξ = gpu_generate_Xi(SSA_params.L, SSA_params.n,μ)\n",
    "\n",
    "    # set intial particle density of the bootstrap particle filter\n",
    "    pf.particles = Array(Ξ)\n",
    "\n",
    "    # start simultion loop with T time steps\n",
    "    for t = 1:T\n",
    "        sim_data[:,:,t] = pf.particles\n",
    "\n",
    "        if(RUN_SSA) # run the state selection algorithm for the particle density\n",
    "            CUDA.@sync candidate_state, u_star, candidate_index, feasibility_mask = state_selection_algorithm(J,pf.particles,SSA_params,SSA_constraints)\n",
    "            x_candidate[:,t] = pf.particles[:,candidate_index]\n",
    "            if(isinf(u_star)||isnan(u_star))\n",
    "                println(\"Feasible Set is Empty!!\")\n",
    "                break\n",
    "            end\n",
    "        elseif(RUN_CM) # choose the conditional mean as the state estimates\n",
    "            x_candidate[:,t] = mean(pf.particles, dims = 2)\n",
    "            candidate_state = x_candidate[:,t]\n",
    "        else\n",
    "            error(\"Please choose a state selection type to simulate\")\n",
    "        end\n",
    "\n",
    "        # check how many particles violate state constraints\n",
    "        violation_rate[t] = sum(check_constraints(pf.particles))/L\n",
    "        println(\"Violation Rate: \", violation_rate[t])\n",
    "\n",
    "        # controller based on selected_state\n",
    "        u_star = dynamics.u(candidate_state)\n",
    "    \n",
    "        ### BOOTSTRAP PARTICLE FILTER UPDATE ###\n",
    "\n",
    "        # generate random noise\n",
    "        w = Array(gpu_sample_gaussian_distribution(0, ω, (n,L,1)))\n",
    "        w_true = sqrt(ω)*randn(2)\n",
    "    \n",
    "        # propagate particle density\n",
    "        pf.particles = pf.TimeUpdate(pf.particles, dynamics, u_star, w)\n",
    "       \n",
    "        # propagate true state\n",
    "        x_true[:,t+1] = dynamics.f(x_true[:,t], u_star, w_true)\n",
    "    \n",
    "        # take measurement of true state\n",
    "        y = dynamics.h(x_true[:,t+1], sqrt(v)*randn())\n",
    "    \n",
    "        # calculate likelihoods of states based on measurement\n",
    "        pf.MeasurementUpdate(pf,dynamics,y)\n",
    "    \n",
    "        # resample with these new likelihoods\n",
    "        pf.Resampler(pf)\n",
    "    end\n",
    "\n",
    "    return x_candidate, sim_data, violation_rate\n",
    "end"
   ]
  },
  {
   "cell_type": "code",
   "execution_count": 72,
   "metadata": {},
   "outputs": [
    {
     "data": {
      "text/plain": [
       "Particle_Filter(Model(f, h, u, [1.0 0.0; 0.0 1.0], 0.09), TimeUpdate, MeasurementUpdate!, Resampler, [1, 1, 1, 1, 1, 1, 1, 1, 1, 1  …  1, 1, 1, 1, 1, 1, 1, 1, 1, 1], fill(-2.240034580230713))"
      ]
     },
     "metadata": {},
     "output_type": "display_data"
    }
   ],
   "source": [
    "# State/control constraint violation rates\n",
    "α = 0.15\n",
    "ϵ = 0.30\n",
    "δ = 0.01\n",
    "\n",
    "# State/control constraints\n",
    "Ulim = 3\n",
    "x1_upperlim = 5\n",
    "x1_lowerlim = 3\n",
    "y1_upperlim = 2\n",
    "y1_lowerlim = -4\n",
    "\n",
    "x2_upperlim = 5\n",
    "x2_lowerlim = -2\n",
    "y2_upperlim = -4\n",
    "y2_lowerlim = -7\n",
    "\n",
    "# state density mean and variance\n",
    "μ = [7.75;-7.75]\n",
    "Σ = 0.5^2\n",
    "\n",
    "# Density and sampling parameters\n",
    "L = 1000 # number of particles\n",
    "M = 300  # number of Monte Carlo samples\n",
    "N = 6    # time horizon\n",
    "T = 20   # simulation total time steps\n",
    "n = 2    # dimension of the state\n",
    "\n",
    "# intialize parameters\n",
    "SSA_params = Params(M, N, L, n, T)\n",
    "\n",
    "# initialize constraints\n",
    "SSA_constraints = Constraints(Ulim, α, ϵ, δ, \n",
    "    x1_upperlim, x1_lowerlim, \n",
    "    y1_upperlim, y1_lowerlim,\n",
    "    x2_upperlim, x2_lowerlim, \n",
    "    y2_upperlim, y2_lowerlim)\n",
    "\n",
    "# initialize particle filter\n",
    "likelihoods = Vector(fill(1,(L)))\n",
    "pf = Particle_Filter(dynamics, TimeUpdate, MeasurementUpdate!, Resampler, likelihoods, Array{Float64}(undef))"
   ]
  },
  {
   "cell_type": "code",
   "execution_count": 73,
   "metadata": {},
   "outputs": [
    {
     "name": "stdout",
     "output_type": "stream",
     "text": [
      "Violation Rate: 0.0\n",
      "Violation Rate: 0.0\n",
      "Violation Rate: 0.0\n",
      "Violation Rate: 0.005\n",
      "Violation Rate: 0.041\n",
      "Violation Rate: 0.034\n",
      "Violation Rate: 0.0\n",
      "Violation Rate: 0.0\n",
      "Violation Rate: 0.0\n",
      "Violation Rate: 0.0\n",
      "Violation Rate: 0.0\n",
      "Violation Rate: 0.0\n",
      "Violation Rate: 0.0\n",
      "Violation Rate: 0.0\n",
      "Violation Rate: 0.0\n",
      "Violation Rate: 0.0\n",
      "Violation Rate: 0.0\n",
      "Violation Rate: 0.0\n",
      "Violation Rate: 0.0\n",
      "Violation Rate: 0.0\n"
     ]
    }
   ],
   "source": [
    "run_ssa = true\n",
    "run_cm = false\n",
    "x_candidate, sim_data, ssa_violation = run_simulation(T,run_ssa,run_cm);"
   ]
  },
  {
   "cell_type": "markdown",
   "metadata": {},
   "source": [
    "Plot the results of the SSA particle filter"
   ]
  },
  {
   "cell_type": "code",
   "execution_count": 74,
   "metadata": {},
   "outputs": [],
   "source": [
    "using Plots\n",
    "using LaTeXStrings"
   ]
  },
  {
   "cell_type": "code",
   "execution_count": 75,
   "metadata": {},
   "outputs": [
    {
     "data": {
      "text/plain": [
       "animate_frame (generic function with 1 method)"
      ]
     },
     "metadata": {},
     "output_type": "display_data"
    }
   ],
   "source": [
    "function rectangle_from_coords(xb,yb,xt,yt)\n",
    "    [\n",
    "        xb  yb\n",
    "        xt  yb\n",
    "        xt  yt\n",
    "        xb  yt\n",
    "        xb  yb\n",
    "        NaN NaN\n",
    "    ]\n",
    "end\n",
    "\n",
    "function animate_frame(i,sim_data,x_candidate)\n",
    "    xlims!(-15,15)\n",
    "    ylims!(-17,7)\n",
    "    # plot the particle density\n",
    "    plot!(sim_data[1,:,i],sim_data[2,:,i],seriestype=:scatter,\n",
    "    label=false,\n",
    "    ms=MARKER_SIZE,\n",
    "    z_order=:back)\n",
    "\n",
    "    # plot the candidate state\n",
    "    scatter!((x_candidate[1,i], x_candidate[2,i]),\n",
    "    label = false,\n",
    "    mc =:red,\n",
    "    z_order=:front)\n",
    "\n",
    "    # plot the state constraints\n",
    "    plot!(state_constraints[:,1], state_constraints[:,2],\n",
    "        label = false,\n",
    "        lc=:black)\n",
    "\n",
    "    xlabel!(L\"z_k\")\n",
    "    ylabel!(L\"h_k\")\n",
    "end"
   ]
  },
  {
   "cell_type": "code",
   "execution_count": 76,
   "metadata": {},
   "outputs": [
    {
     "data": {
      "text/plain": [
       "true"
      ]
     },
     "metadata": {},
     "output_type": "display_data"
    }
   ],
   "source": [
    "# store rectangle coordinatse\n",
    "state_constraints = [\n",
    "rectangle_from_coords(x1_lowerlim,y1_lowerlim,x1_upperlim,y1_upperlim)\n",
    "rectangle_from_coords(x2_lowerlim,y2_lowerlim,x2_upperlim,y2_upperlim)]\n",
    "MARKER_SIZE = 1.5\n",
    "ANIMATE = true"
   ]
  },
  {
   "cell_type": "code",
   "execution_count": 77,
   "metadata": {},
   "outputs": [
    {
     "name": "stderr",
     "output_type": "stream",
     "text": [
      "┌ Info: Saved animation to c:\\Users\\remba\\UCSD\\SAS Lab\\SSA_Julia\\Saved_plots\\ssa.gif\n",
      "└ @ Plots C:\\Users\\remba\\.julia\\packages\\Plots\\Ec1L1\\src\\animation.jl:156\n"
     ]
    },
    {
     "data": {
      "text/plain": [
       "\"c:\\\\Users\\\\remba\\\\UCSD\\\\SAS Lab\\\\SSA_Julia\\\\Saved_plots\\\\ssa_plot.png\""
      ]
     },
     "metadata": {},
     "output_type": "display_data"
    }
   ],
   "source": [
    "# plot initial particle density\n",
    "plot(sim_data[1,:,1],sim_data[2,:,1],seriestype=:scatter,label=false,ms=MARKER_SIZE)\n",
    "scatter\n",
    "scatter!((x_candidate[1,1], x_candidate[2,1]),\n",
    "label = false,\n",
    "mc =:red,\n",
    "z_order=:front)\n",
    "\n",
    "# make GIF\n",
    "if(ANIMATE)\n",
    "    anim = @animate for i = 1:T\n",
    "        animate_frame(i,sim_data,x_candidate)\n",
    "    end\n",
    "\n",
    "    gif(anim, \"Saved_plots/ssa.gif\",fps=10)\n",
    "end\n",
    "\n",
    "# make plot\n",
    "for i = 1:T\n",
    "    animate_frame(i,sim_data,x_candidate)\n",
    "end\n",
    "savefig(\"Saved_plots/ssa_plot.png\")"
   ]
  },
  {
   "cell_type": "markdown",
   "metadata": {},
   "source": [
    "Compare performance of a nominal particle filter using the conditional mean"
   ]
  },
  {
   "cell_type": "code",
   "execution_count": 78,
   "metadata": {},
   "outputs": [
    {
     "name": "stdout",
     "output_type": "stream",
     "text": [
      "Violation Rate: 0.0\n",
      "Violation Rate: 0.0\n",
      "Violation Rate: 0.031\n",
      "Violation Rate: 0.199\n",
      "Violation Rate: 0.15\n",
      "Violation Rate: 0.373\n",
      "Violation Rate: 0.0\n",
      "Violation Rate: 0.0\n",
      "Violation Rate: 0.0\n",
      "Violation Rate: 0.0\n",
      "Violation Rate: 0.0\n",
      "Violation Rate: 0.0\n",
      "Violation Rate: 0.0\n",
      "Violation Rate: 0.0\n",
      "Violation Rate: 0.0\n",
      "Violation Rate: 0.0\n",
      "Violation Rate: 0.0\n",
      "Violation Rate: 0.0\n",
      "Violation Rate: 0.0\n",
      "Violation Rate: 0.0\n"
     ]
    }
   ],
   "source": [
    "run_ssa = false\n",
    "run_cm = true\n",
    "cm_x_candidate, cm_sim_data, cm_violation = run_simulation(T,run_ssa,run_cm);"
   ]
  },
  {
   "cell_type": "code",
   "execution_count": 79,
   "metadata": {},
   "outputs": [
    {
     "name": "stderr",
     "output_type": "stream",
     "text": [
      "┌ Info: Saved animation to c:\\Users\\remba\\UCSD\\SAS Lab\\SSA_Julia\\Saved_plots\\cm.gif\n",
      "└ @ Plots C:\\Users\\remba\\.julia\\packages\\Plots\\Ec1L1\\src\\animation.jl:156\n"
     ]
    },
    {
     "data": {
      "text/plain": [
       "\"c:\\\\Users\\\\remba\\\\UCSD\\\\SAS Lab\\\\SSA_Julia\\\\Saved_plots\\\\cm_plot.png\""
      ]
     },
     "metadata": {},
     "output_type": "display_data"
    }
   ],
   "source": [
    "# plot initial particle density\n",
    "plot(cm_sim_data[1,:,1],cm_sim_data[2,:,1],seriestype=:scatter,label=false,ms=MARKER_SIZE)\n",
    "scatter\n",
    "scatter!((cm_x_candidate[1,1], cm_x_candidate[2,1]),\n",
    "label = false,\n",
    "mc =:red,\n",
    "z_order=:front)\n",
    "\n",
    "# make GIF\n",
    "if(ANIMATE)\n",
    "    anim = @animate for i = 1:T\n",
    "        animate_frame(i,cm_sim_data,cm_x_candidate)\n",
    "    end\n",
    "\n",
    "    gif(anim, \"Saved_plots/cm.gif\",fps=10)\n",
    "end\n",
    "\n",
    "# make plot\n",
    "for i = 1:T\n",
    "    animate_frame(i,cm_sim_data,cm_x_candidate)\n",
    "end\n",
    "savefig(\"Saved_plots/cm_plot.png\")\n"
   ]
  },
  {
   "cell_type": "markdown",
   "metadata": {},
   "source": [
    "Compare state violation rates"
   ]
  },
  {
   "cell_type": "code",
   "execution_count": 80,
   "metadata": {},
   "outputs": [
    {
     "data": {
      "text/plain": [
       "\"c:\\\\Users\\\\remba\\\\UCSD\\\\SAS Lab\\\\SSA_Julia\\\\Saved_plots\\\\violation_rates.png\""
      ]
     },
     "metadata": {},
     "output_type": "display_data"
    }
   ],
   "source": [
    "plot(ssa_violation, label = \"State Selection Algorithm\", shape =:utriangle, ms = 5)\n",
    "plot!(cm_violation, label = \"Conditional Mean\", shape =:circle, ms = 4)\n",
    "savefig(\"Saved_plots/violation_rates.png\")"
   ]
  }
 ],
 "metadata": {
  "kernelspec": {
   "display_name": "Julia 1.10.4",
   "language": "julia",
   "name": "julia-1.10"
  },
  "language_info": {
   "file_extension": ".jl",
   "mimetype": "application/julia",
   "name": "julia",
   "version": "1.10.4"
  }
 },
 "nbformat": 4,
 "nbformat_minor": 2
}
